{
 "cells": [
  {
   "cell_type": "code",
   "execution_count": 45,
   "metadata": {
    "collapsed": true
   },
   "outputs": [],
   "source": [
    "import graphlab as gl\n",
    "gl.canvas.set_target('ipynb')"
   ]
  },
  {
   "cell_type": "code",
   "execution_count": 46,
   "metadata": {
    "collapsed": false
   },
   "outputs": [
    {
     "data": {
      "text/html": [
       "<div style=\"max-height:1000px;max-width:1500px;overflow:auto;\"><table frame=\"box\" rules=\"cols\">\n",
       "    <tr>\n",
       "        <th style=\"padding-left: 1em; padding-right: 1em; text-align: center\">id</th>\n",
       "        <th style=\"padding-left: 1em; padding-right: 1em; text-align: center\">date</th>\n",
       "        <th style=\"padding-left: 1em; padding-right: 1em; text-align: center\">price</th>\n",
       "        <th style=\"padding-left: 1em; padding-right: 1em; text-align: center\">bedrooms</th>\n",
       "        <th style=\"padding-left: 1em; padding-right: 1em; text-align: center\">bathrooms</th>\n",
       "        <th style=\"padding-left: 1em; padding-right: 1em; text-align: center\">sqft_living</th>\n",
       "        <th style=\"padding-left: 1em; padding-right: 1em; text-align: center\">sqft_lot</th>\n",
       "        <th style=\"padding-left: 1em; padding-right: 1em; text-align: center\">floors</th>\n",
       "        <th style=\"padding-left: 1em; padding-right: 1em; text-align: center\">waterfront</th>\n",
       "    </tr>\n",
       "    <tr>\n",
       "        <td style=\"padding-left: 1em; padding-right: 1em; text-align: center; vertical-align: top\">7129300520</td>\n",
       "        <td style=\"padding-left: 1em; padding-right: 1em; text-align: center; vertical-align: top\">2014-10-13 00:00:00+00:00</td>\n",
       "        <td style=\"padding-left: 1em; padding-right: 1em; text-align: center; vertical-align: top\">221900.0</td>\n",
       "        <td style=\"padding-left: 1em; padding-right: 1em; text-align: center; vertical-align: top\">3.0</td>\n",
       "        <td style=\"padding-left: 1em; padding-right: 1em; text-align: center; vertical-align: top\">1.0</td>\n",
       "        <td style=\"padding-left: 1em; padding-right: 1em; text-align: center; vertical-align: top\">1180.0</td>\n",
       "        <td style=\"padding-left: 1em; padding-right: 1em; text-align: center; vertical-align: top\">5650</td>\n",
       "        <td style=\"padding-left: 1em; padding-right: 1em; text-align: center; vertical-align: top\">1</td>\n",
       "        <td style=\"padding-left: 1em; padding-right: 1em; text-align: center; vertical-align: top\">0</td>\n",
       "    </tr>\n",
       "    <tr>\n",
       "        <td style=\"padding-left: 1em; padding-right: 1em; text-align: center; vertical-align: top\">6414100192</td>\n",
       "        <td style=\"padding-left: 1em; padding-right: 1em; text-align: center; vertical-align: top\">2014-12-09 00:00:00+00:00</td>\n",
       "        <td style=\"padding-left: 1em; padding-right: 1em; text-align: center; vertical-align: top\">538000.0</td>\n",
       "        <td style=\"padding-left: 1em; padding-right: 1em; text-align: center; vertical-align: top\">3.0</td>\n",
       "        <td style=\"padding-left: 1em; padding-right: 1em; text-align: center; vertical-align: top\">2.25</td>\n",
       "        <td style=\"padding-left: 1em; padding-right: 1em; text-align: center; vertical-align: top\">2570.0</td>\n",
       "        <td style=\"padding-left: 1em; padding-right: 1em; text-align: center; vertical-align: top\">7242</td>\n",
       "        <td style=\"padding-left: 1em; padding-right: 1em; text-align: center; vertical-align: top\">2</td>\n",
       "        <td style=\"padding-left: 1em; padding-right: 1em; text-align: center; vertical-align: top\">0</td>\n",
       "    </tr>\n",
       "    <tr>\n",
       "        <td style=\"padding-left: 1em; padding-right: 1em; text-align: center; vertical-align: top\">5631500400</td>\n",
       "        <td style=\"padding-left: 1em; padding-right: 1em; text-align: center; vertical-align: top\">2015-02-25 00:00:00+00:00</td>\n",
       "        <td style=\"padding-left: 1em; padding-right: 1em; text-align: center; vertical-align: top\">180000.0</td>\n",
       "        <td style=\"padding-left: 1em; padding-right: 1em; text-align: center; vertical-align: top\">2.0</td>\n",
       "        <td style=\"padding-left: 1em; padding-right: 1em; text-align: center; vertical-align: top\">1.0</td>\n",
       "        <td style=\"padding-left: 1em; padding-right: 1em; text-align: center; vertical-align: top\">770.0</td>\n",
       "        <td style=\"padding-left: 1em; padding-right: 1em; text-align: center; vertical-align: top\">10000</td>\n",
       "        <td style=\"padding-left: 1em; padding-right: 1em; text-align: center; vertical-align: top\">1</td>\n",
       "        <td style=\"padding-left: 1em; padding-right: 1em; text-align: center; vertical-align: top\">0</td>\n",
       "    </tr>\n",
       "    <tr>\n",
       "        <td style=\"padding-left: 1em; padding-right: 1em; text-align: center; vertical-align: top\">2487200875</td>\n",
       "        <td style=\"padding-left: 1em; padding-right: 1em; text-align: center; vertical-align: top\">2014-12-09 00:00:00+00:00</td>\n",
       "        <td style=\"padding-left: 1em; padding-right: 1em; text-align: center; vertical-align: top\">604000.0</td>\n",
       "        <td style=\"padding-left: 1em; padding-right: 1em; text-align: center; vertical-align: top\">4.0</td>\n",
       "        <td style=\"padding-left: 1em; padding-right: 1em; text-align: center; vertical-align: top\">3.0</td>\n",
       "        <td style=\"padding-left: 1em; padding-right: 1em; text-align: center; vertical-align: top\">1960.0</td>\n",
       "        <td style=\"padding-left: 1em; padding-right: 1em; text-align: center; vertical-align: top\">5000</td>\n",
       "        <td style=\"padding-left: 1em; padding-right: 1em; text-align: center; vertical-align: top\">1</td>\n",
       "        <td style=\"padding-left: 1em; padding-right: 1em; text-align: center; vertical-align: top\">0</td>\n",
       "    </tr>\n",
       "    <tr>\n",
       "        <td style=\"padding-left: 1em; padding-right: 1em; text-align: center; vertical-align: top\">1954400510</td>\n",
       "        <td style=\"padding-left: 1em; padding-right: 1em; text-align: center; vertical-align: top\">2015-02-18 00:00:00+00:00</td>\n",
       "        <td style=\"padding-left: 1em; padding-right: 1em; text-align: center; vertical-align: top\">510000.0</td>\n",
       "        <td style=\"padding-left: 1em; padding-right: 1em; text-align: center; vertical-align: top\">3.0</td>\n",
       "        <td style=\"padding-left: 1em; padding-right: 1em; text-align: center; vertical-align: top\">2.0</td>\n",
       "        <td style=\"padding-left: 1em; padding-right: 1em; text-align: center; vertical-align: top\">1680.0</td>\n",
       "        <td style=\"padding-left: 1em; padding-right: 1em; text-align: center; vertical-align: top\">8080</td>\n",
       "        <td style=\"padding-left: 1em; padding-right: 1em; text-align: center; vertical-align: top\">1</td>\n",
       "        <td style=\"padding-left: 1em; padding-right: 1em; text-align: center; vertical-align: top\">0</td>\n",
       "    </tr>\n",
       "    <tr>\n",
       "        <td style=\"padding-left: 1em; padding-right: 1em; text-align: center; vertical-align: top\">7237550310</td>\n",
       "        <td style=\"padding-left: 1em; padding-right: 1em; text-align: center; vertical-align: top\">2014-05-12 00:00:00+00:00</td>\n",
       "        <td style=\"padding-left: 1em; padding-right: 1em; text-align: center; vertical-align: top\">1225000.0</td>\n",
       "        <td style=\"padding-left: 1em; padding-right: 1em; text-align: center; vertical-align: top\">4.0</td>\n",
       "        <td style=\"padding-left: 1em; padding-right: 1em; text-align: center; vertical-align: top\">4.5</td>\n",
       "        <td style=\"padding-left: 1em; padding-right: 1em; text-align: center; vertical-align: top\">5420.0</td>\n",
       "        <td style=\"padding-left: 1em; padding-right: 1em; text-align: center; vertical-align: top\">101930</td>\n",
       "        <td style=\"padding-left: 1em; padding-right: 1em; text-align: center; vertical-align: top\">1</td>\n",
       "        <td style=\"padding-left: 1em; padding-right: 1em; text-align: center; vertical-align: top\">0</td>\n",
       "    </tr>\n",
       "    <tr>\n",
       "        <td style=\"padding-left: 1em; padding-right: 1em; text-align: center; vertical-align: top\">1321400060</td>\n",
       "        <td style=\"padding-left: 1em; padding-right: 1em; text-align: center; vertical-align: top\">2014-06-27 00:00:00+00:00</td>\n",
       "        <td style=\"padding-left: 1em; padding-right: 1em; text-align: center; vertical-align: top\">257500.0</td>\n",
       "        <td style=\"padding-left: 1em; padding-right: 1em; text-align: center; vertical-align: top\">3.0</td>\n",
       "        <td style=\"padding-left: 1em; padding-right: 1em; text-align: center; vertical-align: top\">2.25</td>\n",
       "        <td style=\"padding-left: 1em; padding-right: 1em; text-align: center; vertical-align: top\">1715.0</td>\n",
       "        <td style=\"padding-left: 1em; padding-right: 1em; text-align: center; vertical-align: top\">6819</td>\n",
       "        <td style=\"padding-left: 1em; padding-right: 1em; text-align: center; vertical-align: top\">2</td>\n",
       "        <td style=\"padding-left: 1em; padding-right: 1em; text-align: center; vertical-align: top\">0</td>\n",
       "    </tr>\n",
       "    <tr>\n",
       "        <td style=\"padding-left: 1em; padding-right: 1em; text-align: center; vertical-align: top\">2008000270</td>\n",
       "        <td style=\"padding-left: 1em; padding-right: 1em; text-align: center; vertical-align: top\">2015-01-15 00:00:00+00:00</td>\n",
       "        <td style=\"padding-left: 1em; padding-right: 1em; text-align: center; vertical-align: top\">291850.0</td>\n",
       "        <td style=\"padding-left: 1em; padding-right: 1em; text-align: center; vertical-align: top\">3.0</td>\n",
       "        <td style=\"padding-left: 1em; padding-right: 1em; text-align: center; vertical-align: top\">1.5</td>\n",
       "        <td style=\"padding-left: 1em; padding-right: 1em; text-align: center; vertical-align: top\">1060.0</td>\n",
       "        <td style=\"padding-left: 1em; padding-right: 1em; text-align: center; vertical-align: top\">9711</td>\n",
       "        <td style=\"padding-left: 1em; padding-right: 1em; text-align: center; vertical-align: top\">1</td>\n",
       "        <td style=\"padding-left: 1em; padding-right: 1em; text-align: center; vertical-align: top\">0</td>\n",
       "    </tr>\n",
       "    <tr>\n",
       "        <td style=\"padding-left: 1em; padding-right: 1em; text-align: center; vertical-align: top\">2414600126</td>\n",
       "        <td style=\"padding-left: 1em; padding-right: 1em; text-align: center; vertical-align: top\">2015-04-15 00:00:00+00:00</td>\n",
       "        <td style=\"padding-left: 1em; padding-right: 1em; text-align: center; vertical-align: top\">229500.0</td>\n",
       "        <td style=\"padding-left: 1em; padding-right: 1em; text-align: center; vertical-align: top\">3.0</td>\n",
       "        <td style=\"padding-left: 1em; padding-right: 1em; text-align: center; vertical-align: top\">1.0</td>\n",
       "        <td style=\"padding-left: 1em; padding-right: 1em; text-align: center; vertical-align: top\">1780.0</td>\n",
       "        <td style=\"padding-left: 1em; padding-right: 1em; text-align: center; vertical-align: top\">7470</td>\n",
       "        <td style=\"padding-left: 1em; padding-right: 1em; text-align: center; vertical-align: top\">1</td>\n",
       "        <td style=\"padding-left: 1em; padding-right: 1em; text-align: center; vertical-align: top\">0</td>\n",
       "    </tr>\n",
       "    <tr>\n",
       "        <td style=\"padding-left: 1em; padding-right: 1em; text-align: center; vertical-align: top\">3793500160</td>\n",
       "        <td style=\"padding-left: 1em; padding-right: 1em; text-align: center; vertical-align: top\">2015-03-12 00:00:00+00:00</td>\n",
       "        <td style=\"padding-left: 1em; padding-right: 1em; text-align: center; vertical-align: top\">323000.0</td>\n",
       "        <td style=\"padding-left: 1em; padding-right: 1em; text-align: center; vertical-align: top\">3.0</td>\n",
       "        <td style=\"padding-left: 1em; padding-right: 1em; text-align: center; vertical-align: top\">2.5</td>\n",
       "        <td style=\"padding-left: 1em; padding-right: 1em; text-align: center; vertical-align: top\">1890.0</td>\n",
       "        <td style=\"padding-left: 1em; padding-right: 1em; text-align: center; vertical-align: top\">6560</td>\n",
       "        <td style=\"padding-left: 1em; padding-right: 1em; text-align: center; vertical-align: top\">2</td>\n",
       "        <td style=\"padding-left: 1em; padding-right: 1em; text-align: center; vertical-align: top\">0</td>\n",
       "    </tr>\n",
       "</table>\n",
       "<table frame=\"box\" rules=\"cols\">\n",
       "    <tr>\n",
       "        <th style=\"padding-left: 1em; padding-right: 1em; text-align: center\">view</th>\n",
       "        <th style=\"padding-left: 1em; padding-right: 1em; text-align: center\">condition</th>\n",
       "        <th style=\"padding-left: 1em; padding-right: 1em; text-align: center\">grade</th>\n",
       "        <th style=\"padding-left: 1em; padding-right: 1em; text-align: center\">sqft_above</th>\n",
       "        <th style=\"padding-left: 1em; padding-right: 1em; text-align: center\">sqft_basement</th>\n",
       "        <th style=\"padding-left: 1em; padding-right: 1em; text-align: center\">yr_built</th>\n",
       "        <th style=\"padding-left: 1em; padding-right: 1em; text-align: center\">yr_renovated</th>\n",
       "        <th style=\"padding-left: 1em; padding-right: 1em; text-align: center\">zipcode</th>\n",
       "        <th style=\"padding-left: 1em; padding-right: 1em; text-align: center\">lat</th>\n",
       "    </tr>\n",
       "    <tr>\n",
       "        <td style=\"padding-left: 1em; padding-right: 1em; text-align: center; vertical-align: top\">0</td>\n",
       "        <td style=\"padding-left: 1em; padding-right: 1em; text-align: center; vertical-align: top\">3</td>\n",
       "        <td style=\"padding-left: 1em; padding-right: 1em; text-align: center; vertical-align: top\">7</td>\n",
       "        <td style=\"padding-left: 1em; padding-right: 1em; text-align: center; vertical-align: top\">1180</td>\n",
       "        <td style=\"padding-left: 1em; padding-right: 1em; text-align: center; vertical-align: top\">0</td>\n",
       "        <td style=\"padding-left: 1em; padding-right: 1em; text-align: center; vertical-align: top\">1955</td>\n",
       "        <td style=\"padding-left: 1em; padding-right: 1em; text-align: center; vertical-align: top\">0</td>\n",
       "        <td style=\"padding-left: 1em; padding-right: 1em; text-align: center; vertical-align: top\">98178</td>\n",
       "        <td style=\"padding-left: 1em; padding-right: 1em; text-align: center; vertical-align: top\">47.51123398</td>\n",
       "    </tr>\n",
       "    <tr>\n",
       "        <td style=\"padding-left: 1em; padding-right: 1em; text-align: center; vertical-align: top\">0</td>\n",
       "        <td style=\"padding-left: 1em; padding-right: 1em; text-align: center; vertical-align: top\">3</td>\n",
       "        <td style=\"padding-left: 1em; padding-right: 1em; text-align: center; vertical-align: top\">7</td>\n",
       "        <td style=\"padding-left: 1em; padding-right: 1em; text-align: center; vertical-align: top\">2170</td>\n",
       "        <td style=\"padding-left: 1em; padding-right: 1em; text-align: center; vertical-align: top\">400</td>\n",
       "        <td style=\"padding-left: 1em; padding-right: 1em; text-align: center; vertical-align: top\">1951</td>\n",
       "        <td style=\"padding-left: 1em; padding-right: 1em; text-align: center; vertical-align: top\">1991</td>\n",
       "        <td style=\"padding-left: 1em; padding-right: 1em; text-align: center; vertical-align: top\">98125</td>\n",
       "        <td style=\"padding-left: 1em; padding-right: 1em; text-align: center; vertical-align: top\">47.72102274</td>\n",
       "    </tr>\n",
       "    <tr>\n",
       "        <td style=\"padding-left: 1em; padding-right: 1em; text-align: center; vertical-align: top\">0</td>\n",
       "        <td style=\"padding-left: 1em; padding-right: 1em; text-align: center; vertical-align: top\">3</td>\n",
       "        <td style=\"padding-left: 1em; padding-right: 1em; text-align: center; vertical-align: top\">6</td>\n",
       "        <td style=\"padding-left: 1em; padding-right: 1em; text-align: center; vertical-align: top\">770</td>\n",
       "        <td style=\"padding-left: 1em; padding-right: 1em; text-align: center; vertical-align: top\">0</td>\n",
       "        <td style=\"padding-left: 1em; padding-right: 1em; text-align: center; vertical-align: top\">1933</td>\n",
       "        <td style=\"padding-left: 1em; padding-right: 1em; text-align: center; vertical-align: top\">0</td>\n",
       "        <td style=\"padding-left: 1em; padding-right: 1em; text-align: center; vertical-align: top\">98028</td>\n",
       "        <td style=\"padding-left: 1em; padding-right: 1em; text-align: center; vertical-align: top\">47.73792661</td>\n",
       "    </tr>\n",
       "    <tr>\n",
       "        <td style=\"padding-left: 1em; padding-right: 1em; text-align: center; vertical-align: top\">0</td>\n",
       "        <td style=\"padding-left: 1em; padding-right: 1em; text-align: center; vertical-align: top\">5</td>\n",
       "        <td style=\"padding-left: 1em; padding-right: 1em; text-align: center; vertical-align: top\">7</td>\n",
       "        <td style=\"padding-left: 1em; padding-right: 1em; text-align: center; vertical-align: top\">1050</td>\n",
       "        <td style=\"padding-left: 1em; padding-right: 1em; text-align: center; vertical-align: top\">910</td>\n",
       "        <td style=\"padding-left: 1em; padding-right: 1em; text-align: center; vertical-align: top\">1965</td>\n",
       "        <td style=\"padding-left: 1em; padding-right: 1em; text-align: center; vertical-align: top\">0</td>\n",
       "        <td style=\"padding-left: 1em; padding-right: 1em; text-align: center; vertical-align: top\">98136</td>\n",
       "        <td style=\"padding-left: 1em; padding-right: 1em; text-align: center; vertical-align: top\">47.52082</td>\n",
       "    </tr>\n",
       "    <tr>\n",
       "        <td style=\"padding-left: 1em; padding-right: 1em; text-align: center; vertical-align: top\">0</td>\n",
       "        <td style=\"padding-left: 1em; padding-right: 1em; text-align: center; vertical-align: top\">3</td>\n",
       "        <td style=\"padding-left: 1em; padding-right: 1em; text-align: center; vertical-align: top\">8</td>\n",
       "        <td style=\"padding-left: 1em; padding-right: 1em; text-align: center; vertical-align: top\">1680</td>\n",
       "        <td style=\"padding-left: 1em; padding-right: 1em; text-align: center; vertical-align: top\">0</td>\n",
       "        <td style=\"padding-left: 1em; padding-right: 1em; text-align: center; vertical-align: top\">1987</td>\n",
       "        <td style=\"padding-left: 1em; padding-right: 1em; text-align: center; vertical-align: top\">0</td>\n",
       "        <td style=\"padding-left: 1em; padding-right: 1em; text-align: center; vertical-align: top\">98074</td>\n",
       "        <td style=\"padding-left: 1em; padding-right: 1em; text-align: center; vertical-align: top\">47.61681228</td>\n",
       "    </tr>\n",
       "    <tr>\n",
       "        <td style=\"padding-left: 1em; padding-right: 1em; text-align: center; vertical-align: top\">0</td>\n",
       "        <td style=\"padding-left: 1em; padding-right: 1em; text-align: center; vertical-align: top\">3</td>\n",
       "        <td style=\"padding-left: 1em; padding-right: 1em; text-align: center; vertical-align: top\">11</td>\n",
       "        <td style=\"padding-left: 1em; padding-right: 1em; text-align: center; vertical-align: top\">3890</td>\n",
       "        <td style=\"padding-left: 1em; padding-right: 1em; text-align: center; vertical-align: top\">1530</td>\n",
       "        <td style=\"padding-left: 1em; padding-right: 1em; text-align: center; vertical-align: top\">2001</td>\n",
       "        <td style=\"padding-left: 1em; padding-right: 1em; text-align: center; vertical-align: top\">0</td>\n",
       "        <td style=\"padding-left: 1em; padding-right: 1em; text-align: center; vertical-align: top\">98053</td>\n",
       "        <td style=\"padding-left: 1em; padding-right: 1em; text-align: center; vertical-align: top\">47.65611835</td>\n",
       "    </tr>\n",
       "    <tr>\n",
       "        <td style=\"padding-left: 1em; padding-right: 1em; text-align: center; vertical-align: top\">0</td>\n",
       "        <td style=\"padding-left: 1em; padding-right: 1em; text-align: center; vertical-align: top\">3</td>\n",
       "        <td style=\"padding-left: 1em; padding-right: 1em; text-align: center; vertical-align: top\">7</td>\n",
       "        <td style=\"padding-left: 1em; padding-right: 1em; text-align: center; vertical-align: top\">1715</td>\n",
       "        <td style=\"padding-left: 1em; padding-right: 1em; text-align: center; vertical-align: top\">0</td>\n",
       "        <td style=\"padding-left: 1em; padding-right: 1em; text-align: center; vertical-align: top\">1995</td>\n",
       "        <td style=\"padding-left: 1em; padding-right: 1em; text-align: center; vertical-align: top\">0</td>\n",
       "        <td style=\"padding-left: 1em; padding-right: 1em; text-align: center; vertical-align: top\">98003</td>\n",
       "        <td style=\"padding-left: 1em; padding-right: 1em; text-align: center; vertical-align: top\">47.30972002</td>\n",
       "    </tr>\n",
       "    <tr>\n",
       "        <td style=\"padding-left: 1em; padding-right: 1em; text-align: center; vertical-align: top\">0</td>\n",
       "        <td style=\"padding-left: 1em; padding-right: 1em; text-align: center; vertical-align: top\">3</td>\n",
       "        <td style=\"padding-left: 1em; padding-right: 1em; text-align: center; vertical-align: top\">7</td>\n",
       "        <td style=\"padding-left: 1em; padding-right: 1em; text-align: center; vertical-align: top\">1060</td>\n",
       "        <td style=\"padding-left: 1em; padding-right: 1em; text-align: center; vertical-align: top\">0</td>\n",
       "        <td style=\"padding-left: 1em; padding-right: 1em; text-align: center; vertical-align: top\">1963</td>\n",
       "        <td style=\"padding-left: 1em; padding-right: 1em; text-align: center; vertical-align: top\">0</td>\n",
       "        <td style=\"padding-left: 1em; padding-right: 1em; text-align: center; vertical-align: top\">98198</td>\n",
       "        <td style=\"padding-left: 1em; padding-right: 1em; text-align: center; vertical-align: top\">47.40949984</td>\n",
       "    </tr>\n",
       "    <tr>\n",
       "        <td style=\"padding-left: 1em; padding-right: 1em; text-align: center; vertical-align: top\">0</td>\n",
       "        <td style=\"padding-left: 1em; padding-right: 1em; text-align: center; vertical-align: top\">3</td>\n",
       "        <td style=\"padding-left: 1em; padding-right: 1em; text-align: center; vertical-align: top\">7</td>\n",
       "        <td style=\"padding-left: 1em; padding-right: 1em; text-align: center; vertical-align: top\">1050</td>\n",
       "        <td style=\"padding-left: 1em; padding-right: 1em; text-align: center; vertical-align: top\">730</td>\n",
       "        <td style=\"padding-left: 1em; padding-right: 1em; text-align: center; vertical-align: top\">1960</td>\n",
       "        <td style=\"padding-left: 1em; padding-right: 1em; text-align: center; vertical-align: top\">0</td>\n",
       "        <td style=\"padding-left: 1em; padding-right: 1em; text-align: center; vertical-align: top\">98146</td>\n",
       "        <td style=\"padding-left: 1em; padding-right: 1em; text-align: center; vertical-align: top\">47.51229381</td>\n",
       "    </tr>\n",
       "    <tr>\n",
       "        <td style=\"padding-left: 1em; padding-right: 1em; text-align: center; vertical-align: top\">0</td>\n",
       "        <td style=\"padding-left: 1em; padding-right: 1em; text-align: center; vertical-align: top\">3</td>\n",
       "        <td style=\"padding-left: 1em; padding-right: 1em; text-align: center; vertical-align: top\">7</td>\n",
       "        <td style=\"padding-left: 1em; padding-right: 1em; text-align: center; vertical-align: top\">1890</td>\n",
       "        <td style=\"padding-left: 1em; padding-right: 1em; text-align: center; vertical-align: top\">0</td>\n",
       "        <td style=\"padding-left: 1em; padding-right: 1em; text-align: center; vertical-align: top\">2003</td>\n",
       "        <td style=\"padding-left: 1em; padding-right: 1em; text-align: center; vertical-align: top\">0</td>\n",
       "        <td style=\"padding-left: 1em; padding-right: 1em; text-align: center; vertical-align: top\">98038</td>\n",
       "        <td style=\"padding-left: 1em; padding-right: 1em; text-align: center; vertical-align: top\">47.36840673</td>\n",
       "    </tr>\n",
       "</table>\n",
       "<table frame=\"box\" rules=\"cols\">\n",
       "    <tr>\n",
       "        <th style=\"padding-left: 1em; padding-right: 1em; text-align: center\">long</th>\n",
       "        <th style=\"padding-left: 1em; padding-right: 1em; text-align: center\">sqft_living15</th>\n",
       "        <th style=\"padding-left: 1em; padding-right: 1em; text-align: center\">sqft_lot15</th>\n",
       "    </tr>\n",
       "    <tr>\n",
       "        <td style=\"padding-left: 1em; padding-right: 1em; text-align: center; vertical-align: top\">-122.25677536</td>\n",
       "        <td style=\"padding-left: 1em; padding-right: 1em; text-align: center; vertical-align: top\">1340.0</td>\n",
       "        <td style=\"padding-left: 1em; padding-right: 1em; text-align: center; vertical-align: top\">5650.0</td>\n",
       "    </tr>\n",
       "    <tr>\n",
       "        <td style=\"padding-left: 1em; padding-right: 1em; text-align: center; vertical-align: top\">-122.3188624</td>\n",
       "        <td style=\"padding-left: 1em; padding-right: 1em; text-align: center; vertical-align: top\">1690.0</td>\n",
       "        <td style=\"padding-left: 1em; padding-right: 1em; text-align: center; vertical-align: top\">7639.0</td>\n",
       "    </tr>\n",
       "    <tr>\n",
       "        <td style=\"padding-left: 1em; padding-right: 1em; text-align: center; vertical-align: top\">-122.23319601</td>\n",
       "        <td style=\"padding-left: 1em; padding-right: 1em; text-align: center; vertical-align: top\">2720.0</td>\n",
       "        <td style=\"padding-left: 1em; padding-right: 1em; text-align: center; vertical-align: top\">8062.0</td>\n",
       "    </tr>\n",
       "    <tr>\n",
       "        <td style=\"padding-left: 1em; padding-right: 1em; text-align: center; vertical-align: top\">-122.39318505</td>\n",
       "        <td style=\"padding-left: 1em; padding-right: 1em; text-align: center; vertical-align: top\">1360.0</td>\n",
       "        <td style=\"padding-left: 1em; padding-right: 1em; text-align: center; vertical-align: top\">5000.0</td>\n",
       "    </tr>\n",
       "    <tr>\n",
       "        <td style=\"padding-left: 1em; padding-right: 1em; text-align: center; vertical-align: top\">-122.04490059</td>\n",
       "        <td style=\"padding-left: 1em; padding-right: 1em; text-align: center; vertical-align: top\">1800.0</td>\n",
       "        <td style=\"padding-left: 1em; padding-right: 1em; text-align: center; vertical-align: top\">7503.0</td>\n",
       "    </tr>\n",
       "    <tr>\n",
       "        <td style=\"padding-left: 1em; padding-right: 1em; text-align: center; vertical-align: top\">-122.00528655</td>\n",
       "        <td style=\"padding-left: 1em; padding-right: 1em; text-align: center; vertical-align: top\">4760.0</td>\n",
       "        <td style=\"padding-left: 1em; padding-right: 1em; text-align: center; vertical-align: top\">101930.0</td>\n",
       "    </tr>\n",
       "    <tr>\n",
       "        <td style=\"padding-left: 1em; padding-right: 1em; text-align: center; vertical-align: top\">-122.32704857</td>\n",
       "        <td style=\"padding-left: 1em; padding-right: 1em; text-align: center; vertical-align: top\">2238.0</td>\n",
       "        <td style=\"padding-left: 1em; padding-right: 1em; text-align: center; vertical-align: top\">6819.0</td>\n",
       "    </tr>\n",
       "    <tr>\n",
       "        <td style=\"padding-left: 1em; padding-right: 1em; text-align: center; vertical-align: top\">-122.31457273</td>\n",
       "        <td style=\"padding-left: 1em; padding-right: 1em; text-align: center; vertical-align: top\">1650.0</td>\n",
       "        <td style=\"padding-left: 1em; padding-right: 1em; text-align: center; vertical-align: top\">9711.0</td>\n",
       "    </tr>\n",
       "    <tr>\n",
       "        <td style=\"padding-left: 1em; padding-right: 1em; text-align: center; vertical-align: top\">-122.33659507</td>\n",
       "        <td style=\"padding-left: 1em; padding-right: 1em; text-align: center; vertical-align: top\">1780.0</td>\n",
       "        <td style=\"padding-left: 1em; padding-right: 1em; text-align: center; vertical-align: top\">8113.0</td>\n",
       "    </tr>\n",
       "    <tr>\n",
       "        <td style=\"padding-left: 1em; padding-right: 1em; text-align: center; vertical-align: top\">-122.0308176</td>\n",
       "        <td style=\"padding-left: 1em; padding-right: 1em; text-align: center; vertical-align: top\">2390.0</td>\n",
       "        <td style=\"padding-left: 1em; padding-right: 1em; text-align: center; vertical-align: top\">7570.0</td>\n",
       "    </tr>\n",
       "</table>\n",
       "[10 rows x 21 columns]<br/>\n",
       "</div>"
      ],
      "text/plain": [
       "Columns:\n",
       "\tid\tstr\n",
       "\tdate\tdatetime\n",
       "\tprice\tfloat\n",
       "\tbedrooms\tfloat\n",
       "\tbathrooms\tfloat\n",
       "\tsqft_living\tfloat\n",
       "\tsqft_lot\tint\n",
       "\tfloors\tstr\n",
       "\twaterfront\tint\n",
       "\tview\tint\n",
       "\tcondition\tint\n",
       "\tgrade\tint\n",
       "\tsqft_above\tint\n",
       "\tsqft_basement\tint\n",
       "\tyr_built\tint\n",
       "\tyr_renovated\tint\n",
       "\tzipcode\tstr\n",
       "\tlat\tfloat\n",
       "\tlong\tfloat\n",
       "\tsqft_living15\tfloat\n",
       "\tsqft_lot15\tfloat\n",
       "\n",
       "Rows: 10\n",
       "\n",
       "Data:\n",
       "+------------+---------------------------+-----------+----------+-----------+\n",
       "|     id     |            date           |   price   | bedrooms | bathrooms |\n",
       "+------------+---------------------------+-----------+----------+-----------+\n",
       "| 7129300520 | 2014-10-13 00:00:00+00:00 |  221900.0 |   3.0    |    1.0    |\n",
       "| 6414100192 | 2014-12-09 00:00:00+00:00 |  538000.0 |   3.0    |    2.25   |\n",
       "| 5631500400 | 2015-02-25 00:00:00+00:00 |  180000.0 |   2.0    |    1.0    |\n",
       "| 2487200875 | 2014-12-09 00:00:00+00:00 |  604000.0 |   4.0    |    3.0    |\n",
       "| 1954400510 | 2015-02-18 00:00:00+00:00 |  510000.0 |   3.0    |    2.0    |\n",
       "| 7237550310 | 2014-05-12 00:00:00+00:00 | 1225000.0 |   4.0    |    4.5    |\n",
       "| 1321400060 | 2014-06-27 00:00:00+00:00 |  257500.0 |   3.0    |    2.25   |\n",
       "| 2008000270 | 2015-01-15 00:00:00+00:00 |  291850.0 |   3.0    |    1.5    |\n",
       "| 2414600126 | 2015-04-15 00:00:00+00:00 |  229500.0 |   3.0    |    1.0    |\n",
       "| 3793500160 | 2015-03-12 00:00:00+00:00 |  323000.0 |   3.0    |    2.5    |\n",
       "+------------+---------------------------+-----------+----------+-----------+\n",
       "+-------------+----------+--------+------------+------+-----------+-------+------------+\n",
       "| sqft_living | sqft_lot | floors | waterfront | view | condition | grade | sqft_above |\n",
       "+-------------+----------+--------+------------+------+-----------+-------+------------+\n",
       "|    1180.0   |   5650   |   1    |     0      |  0   |     3     |   7   |    1180    |\n",
       "|    2570.0   |   7242   |   2    |     0      |  0   |     3     |   7   |    2170    |\n",
       "|    770.0    |  10000   |   1    |     0      |  0   |     3     |   6   |    770     |\n",
       "|    1960.0   |   5000   |   1    |     0      |  0   |     5     |   7   |    1050    |\n",
       "|    1680.0   |   8080   |   1    |     0      |  0   |     3     |   8   |    1680    |\n",
       "|    5420.0   |  101930  |   1    |     0      |  0   |     3     |   11  |    3890    |\n",
       "|    1715.0   |   6819   |   2    |     0      |  0   |     3     |   7   |    1715    |\n",
       "|    1060.0   |   9711   |   1    |     0      |  0   |     3     |   7   |    1060    |\n",
       "|    1780.0   |   7470   |   1    |     0      |  0   |     3     |   7   |    1050    |\n",
       "|    1890.0   |   6560   |   2    |     0      |  0   |     3     |   7   |    1890    |\n",
       "+-------------+----------+--------+------------+------+-----------+-------+------------+\n",
       "+---------------+----------+--------------+---------+-------------+\n",
       "| sqft_basement | yr_built | yr_renovated | zipcode |     lat     |\n",
       "+---------------+----------+--------------+---------+-------------+\n",
       "|       0       |   1955   |      0       |  98178  | 47.51123398 |\n",
       "|      400      |   1951   |     1991     |  98125  | 47.72102274 |\n",
       "|       0       |   1933   |      0       |  98028  | 47.73792661 |\n",
       "|      910      |   1965   |      0       |  98136  |   47.52082  |\n",
       "|       0       |   1987   |      0       |  98074  | 47.61681228 |\n",
       "|      1530     |   2001   |      0       |  98053  | 47.65611835 |\n",
       "|       0       |   1995   |      0       |  98003  | 47.30972002 |\n",
       "|       0       |   1963   |      0       |  98198  | 47.40949984 |\n",
       "|      730      |   1960   |      0       |  98146  | 47.51229381 |\n",
       "|       0       |   2003   |      0       |  98038  | 47.36840673 |\n",
       "+---------------+----------+--------------+---------+-------------+\n",
       "+---------------+---------------+-----+\n",
       "|      long     | sqft_living15 | ... |\n",
       "+---------------+---------------+-----+\n",
       "| -122.25677536 |     1340.0    | ... |\n",
       "|  -122.3188624 |     1690.0    | ... |\n",
       "| -122.23319601 |     2720.0    | ... |\n",
       "| -122.39318505 |     1360.0    | ... |\n",
       "| -122.04490059 |     1800.0    | ... |\n",
       "| -122.00528655 |     4760.0    | ... |\n",
       "| -122.32704857 |     2238.0    | ... |\n",
       "| -122.31457273 |     1650.0    | ... |\n",
       "| -122.33659507 |     1780.0    | ... |\n",
       "|  -122.0308176 |     2390.0    | ... |\n",
       "+---------------+---------------+-----+\n",
       "[10 rows x 21 columns]"
      ]
     },
     "execution_count": 46,
     "metadata": {},
     "output_type": "execute_result"
    }
   ],
   "source": [
    "sales = gl.SFrame('/Users/vk/software/coursera/ML/data/kc_house_data.gl')\n",
    "sales.head()"
   ]
  },
  {
   "cell_type": "code",
   "execution_count": 47,
   "metadata": {
    "collapsed": false
   },
   "outputs": [],
   "source": [
    "data_train, data_test = sales.random_split(.8, seed=0)"
   ]
  },
  {
   "cell_type": "code",
   "execution_count": 48,
   "metadata": {
    "collapsed": true
   },
   "outputs": [],
   "source": [
    "def reg(sf_x, sf_y):\n",
    "    n = len(sf_x)\n",
    "    m_y = sf_y.mean()\n",
    "    m_x = sf_x.mean()\n",
    "    intercept = 0; slope = 0\n",
    "    m_xy = (sf_x*sf_y).mean()\n",
    "    m_x2 = (sf_x*sf_x).mean()\n",
    "    num = m_xy-m_x*m_y\n",
    "    den = m_x2 - m_x*m_x\n",
    "    slope = num/den\n",
    "    intercept = m_y-slope*m_x\n",
    "    \n",
    "    return (intercept, slope)"
   ]
  },
  {
   "cell_type": "code",
   "execution_count": 57,
   "metadata": {
    "collapsed": true
   },
   "outputs": [],
   "source": [
    "x = data_train['sqft_living']\n",
    "y = data_train['price']"
   ]
  },
  {
   "cell_type": "code",
   "execution_count": 58,
   "metadata": {
    "collapsed": false
   },
   "outputs": [
    {
     "name": "stdout",
     "output_type": "stream",
     "text": [
      "-47116.0765749 281.958838568\n"
     ]
    }
   ],
   "source": [
    "sqft_intercept,sqft_slope = reg(x,y)\n",
    "print sqft_intercept, sqft_slope"
   ]
  },
  {
   "cell_type": "code",
   "execution_count": 59,
   "metadata": {
    "collapsed": false
   },
   "outputs": [],
   "source": [
    "def reg_predict(x, intercept, slope):\n",
    "    output = x*slope + intercept\n",
    "    return output"
   ]
  },
  {
   "cell_type": "code",
   "execution_count": 60,
   "metadata": {
    "collapsed": false
   },
   "outputs": [],
   "source": [
    "predictions = reg_predict(x, sqft_intercept, sqft_slope)"
   ]
  },
  {
   "cell_type": "code",
   "execution_count": 61,
   "metadata": {
    "collapsed": false
   },
   "outputs": [
    {
     "name": "stdout",
     "output_type": "stream",
     "text": [
      "700074.845629\n"
     ]
    }
   ],
   "source": [
    "p = sqft_intercept + sqft_slope*2650\n",
    "print p"
   ]
  },
  {
   "cell_type": "code",
   "execution_count": 62,
   "metadata": {
    "collapsed": false
   },
   "outputs": [],
   "source": [
    "def rss(x, y, intercept, slope):\n",
    "    error = 0\n",
    "    y_pred = x*slope+intercept\n",
    "    error = ((y-y_pred)*(y-y_pred)).sum()\n",
    "    \n",
    "    return error"
   ]
  },
  {
   "cell_type": "code",
   "execution_count": 63,
   "metadata": {
    "collapsed": false
   },
   "outputs": [
    {
     "name": "stdout",
     "output_type": "stream",
     "text": [
      "1.20191835632e+15\n"
     ]
    }
   ],
   "source": [
    "sqft_rss = rss(x, y, sqft_intercept, sqft_slope)\n",
    "print sqft_rss"
   ]
  },
  {
   "cell_type": "code",
   "execution_count": 37,
   "metadata": {
    "collapsed": true
   },
   "outputs": [],
   "source": [
    "def inverse(y, intercept, slope):\n",
    "    input = (y-intercept)/slope\n",
    "    return input"
   ]
  },
  {
   "cell_type": "code",
   "execution_count": 39,
   "metadata": {
    "collapsed": false
   },
   "outputs": [
    {
     "name": "stdout",
     "output_type": "stream",
     "text": [
      "3004.39624762\n"
     ]
    }
   ],
   "source": [
    "est_input = inverse(800000, sqft_intercept, sqft_slope)\n",
    "print est_input"
   ]
  },
  {
   "cell_type": "code",
   "execution_count": 40,
   "metadata": {
    "collapsed": false
   },
   "outputs": [
    {
     "name": "stdout",
     "output_type": "stream",
     "text": [
      "109473.180469 127588.952175\n"
     ]
    }
   ],
   "source": [
    "x_bedrooms = data_train['bedrooms']\n",
    "bd_intercept,bd_slope = reg(x_bedrooms,y)\n",
    "print bd_intercept, bd_slope"
   ]
  },
  {
   "cell_type": "code",
   "execution_count": 41,
   "metadata": {
    "collapsed": false
   },
   "outputs": [
    {
     "name": "stdout",
     "output_type": "stream",
     "text": [
      "sqft model:  2.75402936247e+14\n",
      "bedrooms model:  4.93364582868e+14\n"
     ]
    }
   ],
   "source": [
    "x_sqft_test = data_test['sqft_living']\n",
    "x_bd_test = data_test['bedrooms']\n",
    "y_test = data_test['price']\n",
    "rss_test_sqft = rss(x_sqft_test, y_test, sqft_intercept, sqft_slope)\n",
    "rss_test_bd = rss(x_bd_test, y_test, bd_intercept, bd_slope)\n",
    "print \"sqft model: \", rss_test_sqft\n",
    "print \"bedrooms model: \", rss_test_bd"
   ]
  },
  {
   "cell_type": "code",
   "execution_count": 42,
   "metadata": {
    "collapsed": false
   },
   "outputs": [
    {
     "data": {
      "application/javascript": [
       "$(\"head\").append($(\"<link/>\").attr({\n",
       "  rel:  \"stylesheet\",\n",
       "  type: \"text/css\",\n",
       "  href: \"//cdnjs.cloudflare.com/ajax/libs/font-awesome/4.1.0/css/font-awesome.min.css\"\n",
       "}));\n",
       "$(\"head\").append($(\"<link/>\").attr({\n",
       "  rel:  \"stylesheet\",\n",
       "  type: \"text/css\",\n",
       "  href: \"//dato.com/files/canvas/1.8.5/css/canvas.css\"\n",
       "}));\n",
       "\n",
       "            (function(){\n",
       "\n",
       "                var e = null;\n",
       "                if (typeof element == 'undefined') {\n",
       "                    var scripts = document.getElementsByTagName('script');\n",
       "                    var thisScriptTag = scripts[scripts.length-1];\n",
       "                    var parentDiv = thisScriptTag.parentNode;\n",
       "                    e = document.createElement('div');\n",
       "                    parentDiv.appendChild(e);\n",
       "                } else {\n",
       "                    e = element[0];\n",
       "                }\n",
       "\n",
       "                if (typeof requirejs !== 'undefined') {\n",
       "                    // disable load timeout; ipython_app.js is large and can take a while to load.\n",
       "                    requirejs.config({waitSeconds: 0});\n",
       "                }\n",
       "\n",
       "                require(['//dato.com/files/canvas/1.8.5/js/ipython_app.js'], function(IPythonApp){\n",
       "                    var app = new IPythonApp();\n",
       "                    app.attachView('sframe','Plots', {\"selected_variable\": {\"name\": [\"sales\"], \"descriptives\": {\"rows\": 21613, \"columns\": 21}, \"view_component\": \"Plots\", \"view_file\": \"sframe\", \"view_params\": {\"y\": \"price\", \"x\": \"sqft_living\", \"columns\": [\"id\", \"date\", \"price\", \"bedrooms\", \"bathrooms\", \"sqft_living\", \"sqft_lot\", \"floors\", \"waterfront\", \"view\", \"condition\", \"grade\", \"sqft_above\", \"sqft_basement\", \"yr_built\", \"yr_renovated\", \"zipcode\", \"lat\", \"long\", \"sqft_living15\", \"sqft_lot15\"], \"view\": \"Scatter Plot\"}, \"view_components\": [\"Summary\", \"Table\", \"Bar Chart\", \"BoxWhisker Plot\", \"Line Chart\", \"Scatter Plot\", \"Heat Map\", \"Plots\"], \"type\": \"SFrame\", \"columns\": [{\"dtype\": \"str\", \"name\": \"id\"}, {\"dtype\": \"datetime\", \"name\": \"date\"}, {\"dtype\": \"float\", \"name\": \"price\"}, {\"dtype\": \"float\", \"name\": \"bedrooms\"}, {\"dtype\": \"float\", \"name\": \"bathrooms\"}, {\"dtype\": \"float\", \"name\": \"sqft_living\"}, {\"dtype\": \"int\", \"name\": \"sqft_lot\"}, {\"dtype\": \"str\", \"name\": \"floors\"}, {\"dtype\": \"int\", \"name\": \"waterfront\"}, {\"dtype\": \"int\", \"name\": \"view\"}, {\"dtype\": \"int\", \"name\": \"condition\"}, {\"dtype\": \"int\", \"name\": \"grade\"}, {\"dtype\": \"int\", \"name\": \"sqft_above\"}, {\"dtype\": \"int\", \"name\": \"sqft_basement\"}, {\"dtype\": \"int\", \"name\": \"yr_built\"}, {\"dtype\": \"int\", \"name\": \"yr_renovated\"}, {\"dtype\": \"str\", \"name\": \"zipcode\"}, {\"dtype\": \"float\", \"name\": \"lat\"}, {\"dtype\": \"float\", \"name\": \"long\"}, {\"dtype\": \"float\", \"name\": \"sqft_living15\"}, {\"dtype\": \"float\", \"name\": \"sqft_lot15\"}], \"column_identifiers\": [\"bathrooms\", \"sqft_living15\", \"sqft_above\", \"grade\", \"yr_built\", \"price\", \"bedrooms\", \"zipcode\", \"long\", \"id\", \"sqft_lot15\", \"sqft_living\", \"floors\", \"sqft_lot\", \"date\", \"waterfront\", \"sqft_basement\", \"yr_renovated\", \"lat\", \"condition\", \"view\"]}, \"complete\": 1, \"ipython\": true, \"progress\": 1.0, \"data\": [[1400.0, 710000.0], [1220.0, 213500.0], [6880.0, 1488000.0], [1984.0, 380000.0], [1300.0, 309000.0], [1330.0, 257000.0], [4920.0, 850000.0], [1420.0, 679000.0], [3560.0, 882566.0], [2580.0, 456500.0], [2210.0, 415000.0], [2550.0, 1400000.0], [2050.0, 386000.0], [2630.0, 749950.0], [1920.0, 465000.0], [2950.0, 759000.0], [4790.0, 818500.0], [1420.0, 490000.0], [1690.0, 349000.0], [1770.0, 324950.0], [1620.0, 385000.0], [2240.0, 700000.0], [2090.0, 485000.0], [2930.0, 800000.0], [2450.0, 329000.0], [3270.0, 1210000.0], [1010.0, 145000.0], [5930.0, 1520000.0], [1020.0, 322500.0], [1340.0, 205000.0], [3310.0, 770000.0], [1850.0, 489200.0], [2380.0, 875000.0], [1090.0, 535000.0], [1610.0, 395000.0], [3120.0, 1939999.0], [1950.0, 275000.0], [3130.0, 320000.0], [2240.0, 625000.0], [3266.0, 418000.0], [2570.0, 625000.0], [1720.0, 500000.0], [1260.0, 245000.0], [1370.0, 307000.0], [1370.0, 593500.0], [1720.0, 450000.0], [1990.0, 537000.0], [1690.0, 461000.0], [2257.0, 349950.0], [2610.0, 547500.0], [2790.0, 695000.0], [3440.0, 1285000.0], [1350.0, 389000.0], [1720.0, 206000.0], [3087.0, 399950.0], [3010.0, 837700.0], [2250.0, 292500.0], [4080.0, 1285000.0], [2080.0, 357500.0], [1840.0, 265000.0], [1510.0, 490000.0], [1710.0, 565000.0], [1990.0, 260000.0], [4290.0, 2680000.0], [1300.0, 245100.0], [2520.0, 861000.0], [730.0, 316000.0], [2800.0, 405000.0], [2450.0, 620000.0], [2330.0, 630000.0], [1810.0, 487500.0], [1990.0, 256750.0], [3190.0, 664000.0], [2500.0, 488000.0], [1390.0, 406000.0], [3290.0, 515000.0], [2425.0, 447500.0], [1880.0, 320000.0], [1430.0, 424000.0], [2100.0, 540000.0], [1150.0, 339000.0], [1990.0, 760500.0], [3240.0, 902000.0], [820.0, 480000.0], [1740.0, 182700.0], [2470.0, 660000.0], [2910.0, 805000.0], [2770.0, 461000.0], [2770.0, 1306000.0], [1400.0, 399950.0], [3710.0, 692500.0], [4800.0, 1975000.0], [1150.0, 334000.0], [1030.0, 535000.0], [1670.0, 485000.0], [4280.0, 734950.0], [2050.0, 629000.0], [1800.0, 449950.0], [2170.0, 565000.0], [4290.0, 1705000.0], [2710.0, 1250000.0], [2420.0, 390000.0], [2540.0, 385000.0], [1940.0, 685000.0], [1350.0, 304500.0], [2380.0, 582000.0], [3260.0, 568450.0], [1240.0, 188500.0], [2020.0, 430000.0], [2050.0, 613200.0], [2310.0, 597750.0], [1790.0, 493000.0], [2480.0, 450000.0], [2300.0, 320000.0], [2192.0, 310000.0], [2650.0, 1457000.0], [2740.0, 1039000.0], [1400.0, 267500.0], [1940.0, 580000.0], [2420.0, 945000.0], [2250.0, 998800.0], [1760.0, 185000.0], [860.0, 370000.0], [2290.0, 347500.0], [1520.0, 292600.0], [2670.0, 405000.0], [1100.0, 400000.0], [1330.0, 205500.0], [3020.0, 845800.0], [3840.0, 556000.0], [2050.0, 299000.0], [2330.0, 572500.0], [3950.0, 784000.0], [1000.0, 115000.0], [1280.0, 470000.0], [2180.0, 254950.0], [1450.0, 230000.0], [2760.0, 445000.0], [1210.0, 500000.0], [1010.0, 350000.0], [1690.0, 267000.0], [2820.0, 527700.0], [3310.0, 885000.0], [1480.0, 415000.0], [1750.0, 368000.0], [3670.0, 921500.0], [1770.0, 436110.0], [1740.0, 616000.0], [1660.0, 620000.0], [2810.0, 747500.0], [1360.0, 532170.0], [1646.0, 307500.0], [3080.0, 365000.0], [3950.0, 900000.0], [3000.0, 400000.0], [2420.0, 950000.0], [1540.0, 499000.0], [1940.0, 661000.0], [1090.0, 577000.0], [1840.0, 465000.0], [1030.0, 326000.0], [1850.0, 399950.0], [1450.0, 274500.0], [1910.0, 441000.0], [1640.0, 556000.0], [2090.0, 200000.0], [1340.0, 269950.0], [1840.0, 590000.0], [1300.0, 195000.0], [1760.0, 387000.0], [1620.0, 260656.0], [2790.0, 375000.0], [2160.0, 798750.0], [1090.0, 236000.0], [2280.0, 420000.0], [2150.0, 370000.0], [2570.0, 399950.0], [2610.0, 725000.0], [2080.0, 550000.0], [1240.0, 415500.0], [2340.0, 396000.0], [3840.0, 875000.0], [1730.0, 299000.0], [1470.0, 379770.0], [1590.0, 411000.0], [1180.0, 450000.0], [2360.0, 600000.0], [2310.0, 470000.0], [1930.0, 568000.0], [3580.0, 711600.0], [2678.0, 546200.0], [1190.0, 166950.0], [1490.0, 255000.0], [3400.0, 510000.0], [1420.0, 500000.0], [1690.0, 256883.0], [1340.0, 376000.0], [3040.0, 1000000.0], [2520.0, 250000.0], [1780.0, 472000.0], [1020.0, 364000.0], [1580.0, 475000.0], [1954.0, 235245.0], [2320.0, 600000.0], [1480.0, 418000.0], [1750.0, 415500.0], [1380.0, 525000.0], [1010.0, 300000.0], [1110.0, 345000.0], [2300.0, 464000.0], [1936.0, 338900.0], [1850.0, 475000.0], [2420.0, 597400.0], [2030.0, 595000.0], [800.0, 465000.0], [1490.0, 184000.0], [2963.0, 325000.0], [2530.0, 336000.0], [2560.0, 925000.0], [970.0, 215000.0], [1010.0, 500000.0], [2110.0, 516200.0], [3210.0, 1289000.0], [2330.0, 588500.0], [2280.0, 577500.0], [980.0, 435000.0], [1050.0, 325000.0], [2730.0, 981000.0], [2230.0, 500000.0], [1180.0, 447500.0], [1590.0, 310000.0], [1930.0, 289000.0], [2920.0, 830000.0], [2150.0, 800000.0], [2370.0, 746000.0], [1810.0, 465000.0], [2220.0, 416000.0], [1150.0, 213400.0], [1340.0, 199950.0], [1710.0, 475000.0], [4240.0, 1160000.0], [1030.0, 275000.0], [1010.0, 300000.0], [1840.0, 750000.0], [3470.0, 1727000.0], [1290.0, 647500.0], [2980.0, 950000.0], [2630.0, 600000.0], [4210.0, 1905000.0], [3560.0, 389000.0], [1550.0, 313000.0], [1460.0, 601500.0], [2940.0, 640000.0], [2720.0, 1275000.0], [1690.0, 404763.0], [1120.0, 243950.0], [1950.0, 322000.0], [1550.0, 299000.0], [1780.0, 535000.0], [1650.0, 715000.0], [2180.0, 571500.0], [2130.0, 534000.0], [3020.0, 735000.0], [2600.0, 265000.0], [3710.0, 998000.0], [3970.0, 949990.0], [1400.0, 410000.0], [780.0, 370000.0], [1900.0, 505000.0], [1760.0, 388000.0], [2700.0, 1060000.0], [2230.0, 590000.0], [1220.0, 655100.0], [3730.0, 925000.0], [3090.0, 850000.0], [3920.0, 1000000.0], [1480.0, 278000.0], [1610.0, 280000.0], [1440.0, 523000.0], [2270.0, 780000.0], [2760.0, 500000.0], [1200.0, 290000.0], [2540.0, 760250.0], [3500.0, 780000.0], [4170.0, 1088000.0], [1270.0, 386100.0], [1720.0, 713500.0], [2090.0, 513000.0], [3040.0, 620000.0], [1930.0, 407500.0], [2220.0, 576750.0], [1610.0, 269950.0], [2570.0, 390000.0], [890.0, 475000.0], [2110.0, 981000.0], [5840.0, 2200000.0], [2440.0, 483000.0], [1690.0, 207000.0], [3370.0, 1550000.0], [1590.0, 305100.0], [1720.0, 540000.0], [2890.0, 476000.0], [1650.0, 266750.0], [1880.0, 605000.0], [1350.0, 280000.0], [1300.0, 374990.0], [2890.0, 575000.0], [1830.0, 825000.0], [1810.0, 520000.0], [2910.0, 701000.0], [1000.0, 377000.0], [1320.0, 269950.0], [2750.0, 950000.0], [790.0, 118125.0], [860.0, 198000.0], [960.0, 525000.0], [2270.0, 596000.0], [2350.0, 555000.0], [2250.0, 750000.0], [1300.0, 360000.0], [2350.0, 700000.0], [3680.0, 770000.0], [1500.0, 419000.0], [1810.0, 615500.0], [3010.0, 800000.0], [1680.0, 250000.0], [720.0, 405000.0], [2420.0, 399500.0], [1750.0, 225000.0], [1530.0, 315000.0], [1010.0, 245000.0], [3370.0, 2300000.0], [1710.0, 445000.0], [1220.0, 175000.0], [1120.0, 363000.0], [870.0, 475000.0], [1710.0, 500000.0], [2100.0, 595000.0], [3650.0, 1575000.0], [1220.0, 199000.0], [1180.0, 659000.0], [2680.0, 600000.0], [1450.0, 394000.0], [1600.0, 460000.0], [4225.0, 1005000.0], [1260.0, 300000.0], [2250.0, 445000.0], [2270.0, 292000.0], [1290.0, 275000.0], [1260.0, 245000.0], [1960.0, 569500.0], [1590.0, 485000.0], [1090.0, 345000.0], [980.0, 499950.0], [2020.0, 496600.0], [2900.0, 339000.0], [2640.0, 1545000.0], [1630.0, 725000.0], [1850.0, 255000.0], [3000.0, 688000.0], [3070.0, 1495000.0], [930.0, 500000.0], [3790.0, 1295000.0], [2210.0, 500000.0], [1610.0, 262500.0], [1530.0, 446000.0], [2150.0, 871000.0], [2980.0, 352000.0], [1300.0, 398000.0], [1760.0, 440000.0], [1770.0, 291500.0], [1020.0, 245000.0], [1060.0, 230000.0], [1820.0, 455850.0], [5040.0, 1284000.0], [2930.0, 750000.0], [1070.0, 200000.0], [3100.0, 499000.0], [2450.0, 450000.0], [3160.0, 467500.0], [2810.0, 479950.0], [770.0, 252500.0], [2450.0, 530000.0], [3370.0, 813000.0], [1820.0, 519900.0], [1100.0, 421000.0], [6490.0, 2000000.0], [2530.0, 618000.0], [1980.0, 220000.0], [3950.0, 771150.0], [3800.0, 2395000.0], [1480.0, 335000.0], [1130.0, 239000.0], [1540.0, 640000.0], [2340.0, 618000.0], [2350.0, 1195000.0], [2490.0, 704000.0], [2140.0, 507000.0], [2160.0, 378750.0], [1560.0, 279000.0], [1810.0, 329500.0], [1900.0, 235000.0], [1420.0, 205000.0], [3100.0, 792000.0], [1650.0, 590000.0], [1590.0, 210000.0], [1290.0, 450000.0], [2100.0, 305000.0], [2450.0, 760000.0], [1770.0, 487000.0], [1290.0, 256000.0], [3200.0, 385000.0], [2331.0, 345000.0], [1670.0, 252000.0], [2510.0, 706000.0], [1940.0, 555000.0], [3720.0, 650000.0], [1230.0, 549000.0], [2230.0, 490000.0], [2800.0, 1028000.0], [2290.0, 390000.0], [1180.0, 355000.0], [2890.0, 715000.0], [3300.0, 1250000.0], [1520.0, 530000.0], [1230.0, 392000.0], [1980.0, 545800.0], [3172.0, 432500.0], [2160.0, 555000.0], [1810.0, 550000.0], [2290.0, 328500.0], [1160.0, 775000.0], [1110.0, 302000.0], [1710.0, 275000.0], [2150.0, 371000.0], [4440.0, 1295000.0], [1600.0, 332500.0], [3740.0, 1078500.0], [1160.0, 280000.0], [870.0, 382000.0], [3050.0, 1038000.0], [1700.0, 616300.0], [3080.0, 775000.0], [1800.0, 475000.0], [2290.0, 949880.0], [1920.0, 400000.0], [1670.0, 451000.0], [2200.0, 358000.0], [1310.0, 717000.0], [1460.0, 625000.0], [3530.0, 1550000.0], [2140.0, 330000.0], [2660.0, 525000.0], [1410.0, 563000.0], [2240.0, 415000.0], [3160.0, 1250000.0], [1860.0, 580000.0], [2260.0, 451000.0], [2460.0, 640000.0], [1900.0, 667000.0], [3130.0, 745000.0], [3190.0, 625000.0], [2600.0, 300000.0], [1680.0, 550000.0], [2020.0, 520000.0], [430.0, 80000.0], [2000.0, 450000.0], [1720.0, 500000.0], [1230.0, 380000.0], [1810.0, 342500.0], [1670.0, 1020000.0], [2500.0, 538500.0], [4110.0, 1199000.0], [2440.0, 550000.0], [1550.0, 350000.0], [1770.0, 373000.0], [2100.0, 317000.0], [2440.0, 525000.0], [2500.0, 730000.0], [1230.0, 464000.0], [1400.0, 253000.0], [2880.0, 780000.0], [1730.0, 569000.0], [1670.0, 600000.0], [1750.0, 605000.0], [2350.0, 500000.0], [3340.0, 699000.0], [660.0, 175000.0], [2810.0, 699900.0], [2690.0, 445000.0], [2380.0, 340000.0], [1310.0, 455000.0], [1790.0, 375000.0], [1400.0, 285000.0], [1990.0, 490000.0], [1000.0, 220000.0], [1280.0, 184500.0], [2530.0, 625000.0], [1360.0, 329950.0], [1720.0, 420000.0], [2120.0, 385000.0], [3470.0, 950000.0], [1820.0, 385000.0], [1820.0, 790000.0], [2550.0, 850000.0], [1340.0, 345000.0], [1740.0, 645000.0], [1960.0, 422500.0], [1790.0, 570000.0], [2830.0, 713414.0], [1590.0, 250000.0], [3310.0, 1100000.0], [3915.0, 963990.0], [2240.0, 439000.0], [1750.0, 363000.0], [5220.0, 1481000.0], [2320.0, 475000.0], [1510.0, 374000.0], [3560.0, 851000.0], [1870.0, 419950.0], [1380.0, 272000.0], [1410.0, 358000.0], [3990.0, 650000.0], [1790.0, 302000.0], [1160.0, 201500.0], [1690.0, 530000.0], [760.0, 300000.0], [4070.0, 993500.0], [2440.0, 610000.0], [1571.0, 366750.0], [1490.0, 391000.0], [1360.0, 200000.0], [2420.0, 752888.0], [520.0, 262000.0], [2669.0, 402395.0], [2330.0, 1150000.0], [830.0, 175000.0], [1090.0, 394950.0], [1050.0, 415000.0], [1800.0, 390000.0], [1940.0, 565000.0], [2600.0, 695000.0], [1860.0, 725000.0], [1030.0, 310000.0], [3040.0, 790000.0], [1300.0, 700000.0], [820.0, 478000.0], [2750.0, 375000.0], [900.0, 144975.0], [1730.0, 267950.0], [1440.0, 435000.0], [2390.0, 360000.0], [2910.0, 525000.0], [1270.0, 360000.0], [2040.0, 346950.0], [3691.0, 800000.0], [2580.0, 499950.0], [1300.0, 819000.0], [1940.0, 505000.0], [2080.0, 460000.0], [3210.0, 465000.0], [5370.0, 1565000.0], [2510.0, 319000.0], [3078.0, 459950.0], [1880.0, 560000.0], [1490.0, 234000.0], [4930.0, 600000.0], [670.0, 272000.0], [2800.0, 739000.0], [3560.0, 1364000.0], [3630.0, 400000.0], [2170.0, 465000.0], [2560.0, 442000.0], [1140.0, 356000.0], [1450.0, 650000.0], [2370.0, 1057000.0], [920.0, 255000.0], [6050.0, 930000.0], [1760.0, 715000.0], [2490.0, 868500.0], [1010.0, 775000.0], [1050.0, 187000.0], [2260.0, 379000.0], [1020.0, 265000.0], [1530.0, 294000.0], [1740.0, 305000.0], [930.0, 306000.0], [2550.0, 675000.0], [2220.0, 680000.0], [1430.0, 380950.0], [1360.0, 345000.0], [2220.0, 464000.0], [3340.0, 576000.0], [1220.0, 286700.0], [1640.0, 303100.0], [2980.0, 820000.0], [2180.0, 727000.0], [2090.0, 285000.0], [1010.0, 225000.0], [4360.0, 1450000.0], [1470.0, 215000.0], [1960.0, 182000.0], [1660.0, 235000.0], [1970.0, 599950.0], [1780.0, 495000.0], [980.0, 415000.0], [1170.0, 250000.0], [1760.0, 500000.0], [4040.0, 1650000.0], [1960.0, 599000.0], [1830.0, 700000.0], [2020.0, 720000.0], [1010.0, 560000.0], [1860.0, 291000.0], [1451.0, 300000.0], [1670.0, 325000.0], [2290.0, 349900.0], [1570.0, 450000.0], [1250.0, 175000.0], [1440.0, 210000.0], [1920.0, 260000.0], [1670.0, 631000.0], [2730.0, 649000.0], [900.0, 146000.0], [3760.0, 429900.0], [1960.0, 250000.0], [1140.0, 340000.0], [2050.0, 760000.0], [2160.0, 228950.0], [3030.0, 321000.0], [2220.0, 532500.0], [800.0, 335950.0], [2170.0, 592500.0], [2290.0, 991700.0], [890.0, 542000.0], [1630.0, 412500.0], [1200.0, 214000.0], [740.0, 114975.0], [2710.0, 359000.0], [3940.0, 725000.0], [1480.0, 899000.0], [2250.0, 305000.0], [3000.0, 585000.0], [1870.0, 375000.0], [1740.0, 269900.0], [1370.0, 460000.0], [2160.0, 528000.0], [880.0, 334550.0], [1460.0, 480000.0], [2340.0, 660000.0], [2800.0, 529000.0], [1560.0, 545500.0], [1110.0, 416000.0], [2050.0, 475000.0], [1470.0, 337000.0], [1320.0, 387500.0], [1200.0, 329000.0], [1780.0, 420000.0], [1100.0, 210000.0], [1530.0, 546000.0], [1600.0, 224000.0], [3990.0, 1500000.0], [1960.0, 355950.0], [3140.0, 925850.0], [1550.0, 599000.0], [4120.0, 1300000.0], [1360.0, 225000.0], [1780.0, 442573.0], [1340.0, 415000.0], [1700.0, 419000.0], [2550.0, 315000.0], [910.0, 415000.0], [1600.0, 350000.0], [2130.0, 1300000.0], [2190.0, 297500.0], [2510.0, 900000.0], [3020.0, 275000.0], [2320.0, 425000.0], [2110.0, 780000.0], [2290.0, 470000.0], [3540.0, 707000.0], [3160.0, 693000.0], [3130.0, 690500.0], [1150.0, 463000.0], [1820.0, 389000.0], [2020.0, 330000.0], [2520.0, 685000.0], [1560.0, 500000.0], [1130.0, 315450.0], [2130.0, 530000.0], [1200.0, 250000.0], [1350.0, 337500.0], [2030.0, 305000.0], [1810.0, 387000.0], [3420.0, 549900.0], [3100.0, 540000.0], [1700.0, 206000.0], [2630.0, 725000.0], [2930.0, 549950.0], [1940.0, 525000.0], [2140.0, 329950.0], [1270.0, 435000.0], [2110.0, 496000.0], [3596.0, 580000.0], [1380.0, 475000.0], [4110.0, 1042031.0], [2700.0, 572000.0], [1180.0, 289900.0], [670.0, 185000.0], [1210.0, 430000.0], [1480.0, 778100.0], [1420.0, 324450.0], [1960.0, 330000.0], [4410.0, 765000.0], [3530.0, 1610000.0], [1960.0, 655000.0], [1260.0, 277500.0], [3600.0, 1355000.0], [1430.0, 412000.0], [1690.0, 464550.0], [1850.0, 495000.0], [1600.0, 355000.0], [1590.0, 720000.0], [3990.0, 609000.0], [2100.0, 735000.0], [2400.0, 405000.0], [2300.0, 500000.0], [1050.0, 339950.0], [1540.0, 176000.0], [1470.0, 249900.0], [1960.0, 490000.0], [2250.0, 390000.0], [3330.0, 1375000.0], [880.0, 253000.0], [1870.0, 355000.0], [2070.0, 365000.0], [2320.0, 360000.0], [3520.0, 775000.0], [1400.0, 320000.0], [1380.0, 365000.0], [820.0, 320000.0], [3030.0, 685000.0], [2080.0, 474950.0], [1320.0, 330000.0], [1590.0, 330000.0], [1030.0, 367500.0], [1010.0, 315000.0], [1820.0, 206000.0], [2280.0, 416500.0], [2630.0, 454200.0], [980.0, 400000.0], [1950.0, 395000.0], [1120.0, 442500.0], [1310.0, 600000.0], [2900.0, 500000.0], [1270.0, 369950.0], [1450.0, 277000.0], [3220.0, 630000.0], [2495.0, 267000.0], [2280.0, 557000.0], [1000.0, 286300.0], [1190.0, 400000.0], [1680.0, 935000.0], [710.0, 399950.0], [2390.0, 405300.0], [3690.0, 1899000.0], [780.0, 285000.0], [2710.0, 805000.0], [2680.0, 390000.0], [3020.0, 750000.0], [3210.0, 915000.0], [3640.0, 925000.0], [1750.0, 300000.0], [1320.0, 425000.0], [1460.0, 450000.0], [2100.0, 759000.0], [1600.0, 240000.0], [2200.0, 315000.0], [2300.0, 263850.0], [3220.0, 550000.0], [2060.0, 418500.0], [1190.0, 229000.0], [4700.0, 1135000.0], [1980.0, 307550.0], [1270.0, 140000.0], [1430.0, 525000.0], [2185.0, 374000.0], [1380.0, 345000.0], [1380.0, 475000.0], [1790.0, 650000.0], [2940.0, 605000.0], [2810.0, 675000.0], [1840.0, 300000.0], [1830.0, 485000.0], [2790.0, 478000.0], [1600.0, 280000.0], [1600.0, 425000.0], [840.0, 306500.0], [4700.0, 1400000.0], [1610.0, 235000.0], [1020.0, 310000.0], [1580.0, 279900.0], [1090.0, 196000.0], [1460.0, 437000.0], [2420.0, 369000.0], [1060.0, 170500.0], [1380.0, 543115.0], [4370.0, 1500000.0], [2530.0, 435000.0], [1460.0, 265800.0], [2210.0, 343000.0], [1210.0, 237000.0], [2540.0, 531000.0], [2550.0, 480000.0], [3140.0, 375000.0], [1970.0, 405000.0], [2340.0, 645000.0], [1987.0, 255000.0], [1670.0, 580000.0], [1580.0, 575000.0], [1660.0, 412000.0], [2800.0, 650000.0], [1420.0, 523950.0], [1810.0, 287500.0], [1260.0, 477000.0], [2720.0, 348000.0], [2880.0, 710000.0], [1110.0, 223000.0], [3070.0, 858000.0], [3570.0, 942990.0], [3340.0, 910000.0], [3030.0, 901000.0], [2390.0, 589000.0], [1040.0, 341000.0], [2360.0, 1755000.0], [1920.0, 324500.0], [2710.0, 430760.0], [2050.0, 385000.0], [3260.0, 1328000.0], [1410.0, 410000.0], [1930.0, 495000.0], [930.0, 226950.0], [2050.0, 329950.0], [960.0, 345000.0], [800.0, 339950.0], [1750.0, 247000.0], [4480.0, 835000.0], [2130.0, 779000.0], [2820.0, 893880.0], [2005.0, 491000.0], [2510.0, 788500.0], [1280.0, 215000.0], [1270.0, 190000.0], [4040.0, 760000.0], [1620.0, 327000.0], [1010.0, 370000.0], [1710.0, 255000.0], [1140.0, 247300.0], [840.0, 290000.0], [2970.0, 815000.0], [1510.0, 575000.0], [2100.0, 700000.0], [1880.0, 405000.0], [2320.0, 934550.0], [1650.0, 429500.0], [1420.0, 275000.0], [1830.0, 524950.0], [1510.0, 406500.0], [2240.0, 590000.0], [2490.0, 1145000.0], [1600.0, 340000.0], [1040.0, 210000.0], [1350.0, 468500.0], [2710.0, 623000.0], [2960.0, 605000.0], [2280.0, 718000.0], [4660.0, 760000.0], [2990.0, 820000.0], [3300.0, 510000.0], [1150.0, 185000.0], [2050.0, 550000.0], [1570.0, 440000.0], [4280.0, 1200000.0], [2460.0, 704111.0], [1790.0, 525000.0], [2870.0, 890000.0], [2400.0, 700000.0], [960.0, 345000.0], [1490.0, 271500.0], [1230.0, 554663.0], [1660.0, 619000.0], [1610.0, 390000.0], [1380.0, 209950.0], [2650.0, 536000.0], [1760.0, 555000.0], [2790.0, 445000.0], [2350.0, 1015000.0], [3210.0, 870000.0], [2190.0, 730000.0], [900.0, 473000.0], [1060.0, 326250.0], [3020.0, 439000.0], [2570.0, 626000.0], [1260.0, 295000.0], [1260.0, 425000.0], [2050.0, 1025000.0], [2070.0, 470000.0], [1460.0, 495000.0], [2660.0, 768000.0], [1240.0, 215000.0], [1410.0, 260000.0], [1522.0, 407500.0], [3490.0, 941500.0], [1560.0, 525000.0], [2290.0, 367950.0], [2070.0, 645000.0], [1400.0, 310000.0], [940.0, 253905.0], [2250.0, 975000.0], [2120.0, 290000.0], [1310.0, 237950.0], [2320.0, 350000.0], [1420.0, 535000.0], [1850.0, 355000.0], [2940.0, 1070000.0], [1910.0, 580000.0], [3280.0, 702000.0], [2150.0, 430000.0], [1000.0, 641500.0], [880.0, 330000.0], [1670.0, 204700.0], [2050.0, 655275.0], [3480.0, 860000.0], [1440.0, 656000.0], [1740.0, 560000.0], [1210.0, 402000.0], [2790.0, 378000.0], [1950.0, 325000.0], [2110.0, 319000.0], [1630.0, 330950.0], [1820.0, 367000.0], [3310.0, 695000.0], [3150.0, 850000.0], [6300.0, 2750000.0], [1580.0, 280000.0], [1060.0, 310000.0], [2810.0, 575000.0], [1150.0, 349000.0], [1690.0, 431000.0], [3910.0, 1562000.0], [1584.0, 261000.0], [970.0, 209500.0], [1870.0, 485000.0], [1790.0, 413100.0], [1830.0, 212000.0], [1920.0, 406000.0], [1020.0, 235000.0], [2990.0, 655000.0], [2270.0, 500000.0], [2240.0, 319950.0], [1230.0, 229500.0], [1470.0, 410000.0], [2840.0, 425000.0], [1520.0, 210000.0], [2820.0, 635000.0], [2120.0, 612000.0], [1400.0, 511555.0], [1140.0, 569950.0], [1170.0, 470000.0], [710.0, 480000.0], [2600.0, 691500.0], [2690.0, 775000.0], [1950.0, 425000.0], [600.0, 280000.0], [2420.0, 755000.0], [2240.0, 1190000.0], [2410.0, 485000.0], [1500.0, 290000.0], [1540.0, 240000.0], [3000.0, 705000.0], [2890.0, 855000.0], [1400.0, 553000.0], [1440.0, 427000.0], [2030.0, 525000.0], [2480.0, 489950.0], [1750.0, 491300.0], [1500.0, 315000.0], [1964.0, 342000.0], [1650.0, 238000.0], [1670.0, 484950.0], [850.0, 490000.0], [2160.0, 585000.0], [2670.0, 630000.0], [3320.0, 302000.0], [740.0, 178500.0], [1710.0, 380000.0], [2150.0, 410000.0], [2740.0, 725000.0], [1140.0, 243800.0], [1640.0, 342000.0]], \"columns\": [{\"dtype\": \"str\", \"name\": \"id\"}, {\"dtype\": \"datetime\", \"name\": \"date\"}, {\"dtype\": \"float\", \"name\": \"price\"}, {\"dtype\": \"float\", \"name\": \"bedrooms\"}, {\"dtype\": \"float\", \"name\": \"bathrooms\"}, {\"dtype\": \"float\", \"name\": \"sqft_living\"}, {\"dtype\": \"int\", \"name\": \"sqft_lot\"}, {\"dtype\": \"str\", \"name\": \"floors\"}, {\"dtype\": \"int\", \"name\": \"waterfront\"}, {\"dtype\": \"int\", \"name\": \"view\"}, {\"dtype\": \"int\", \"name\": \"condition\"}, {\"dtype\": \"int\", \"name\": \"grade\"}, {\"dtype\": \"int\", \"name\": \"sqft_above\"}, {\"dtype\": \"int\", \"name\": \"sqft_basement\"}, {\"dtype\": \"int\", \"name\": \"yr_built\"}, {\"dtype\": \"int\", \"name\": \"yr_renovated\"}, {\"dtype\": \"str\", \"name\": \"zipcode\"}, {\"dtype\": \"float\", \"name\": \"lat\"}, {\"dtype\": \"float\", \"name\": \"long\"}, {\"dtype\": \"float\", \"name\": \"sqft_living15\"}, {\"dtype\": \"float\", \"name\": \"sqft_lot15\"}]}, e);\n",
       "                });\n",
       "            })();\n",
       "        "
      ]
     },
     "metadata": {},
     "output_type": "display_data"
    }
   ],
   "source": [
    "sales.show(view=\"Scatter Plot\", x='sqft_living', y='price')"
   ]
  },
  {
   "cell_type": "code",
   "execution_count": 43,
   "metadata": {
    "collapsed": false
   },
   "outputs": [
    {
     "data": {
      "application/javascript": [
       "$(\"head\").append($(\"<link/>\").attr({\n",
       "  rel:  \"stylesheet\",\n",
       "  type: \"text/css\",\n",
       "  href: \"//cdnjs.cloudflare.com/ajax/libs/font-awesome/4.1.0/css/font-awesome.min.css\"\n",
       "}));\n",
       "$(\"head\").append($(\"<link/>\").attr({\n",
       "  rel:  \"stylesheet\",\n",
       "  type: \"text/css\",\n",
       "  href: \"//dato.com/files/canvas/1.8.5/css/canvas.css\"\n",
       "}));\n",
       "\n",
       "            (function(){\n",
       "\n",
       "                var e = null;\n",
       "                if (typeof element == 'undefined') {\n",
       "                    var scripts = document.getElementsByTagName('script');\n",
       "                    var thisScriptTag = scripts[scripts.length-1];\n",
       "                    var parentDiv = thisScriptTag.parentNode;\n",
       "                    e = document.createElement('div');\n",
       "                    parentDiv.appendChild(e);\n",
       "                } else {\n",
       "                    e = element[0];\n",
       "                }\n",
       "\n",
       "                if (typeof requirejs !== 'undefined') {\n",
       "                    // disable load timeout; ipython_app.js is large and can take a while to load.\n",
       "                    requirejs.config({waitSeconds: 0});\n",
       "                }\n",
       "\n",
       "                require(['//dato.com/files/canvas/1.8.5/js/ipython_app.js'], function(IPythonApp){\n",
       "                    var app = new IPythonApp();\n",
       "                    app.attachView('sframe','Plots', {\"selected_variable\": {\"name\": [\"sales\"], \"descriptives\": {\"rows\": 21613, \"columns\": 21}, \"view_component\": \"Plots\", \"view_file\": \"sframe\", \"view_params\": {\"y\": \"price\", \"x\": \"bedrooms\", \"columns\": [\"id\", \"date\", \"price\", \"bedrooms\", \"bathrooms\", \"sqft_living\", \"sqft_lot\", \"floors\", \"waterfront\", \"view\", \"condition\", \"grade\", \"sqft_above\", \"sqft_basement\", \"yr_built\", \"yr_renovated\", \"zipcode\", \"lat\", \"long\", \"sqft_living15\", \"sqft_lot15\"], \"view\": \"Scatter Plot\"}, \"view_components\": [\"Summary\", \"Table\", \"Bar Chart\", \"BoxWhisker Plot\", \"Line Chart\", \"Scatter Plot\", \"Heat Map\", \"Plots\"], \"type\": \"SFrame\", \"columns\": [{\"dtype\": \"str\", \"name\": \"id\"}, {\"dtype\": \"datetime\", \"name\": \"date\"}, {\"dtype\": \"float\", \"name\": \"price\"}, {\"dtype\": \"float\", \"name\": \"bedrooms\"}, {\"dtype\": \"float\", \"name\": \"bathrooms\"}, {\"dtype\": \"float\", \"name\": \"sqft_living\"}, {\"dtype\": \"int\", \"name\": \"sqft_lot\"}, {\"dtype\": \"str\", \"name\": \"floors\"}, {\"dtype\": \"int\", \"name\": \"waterfront\"}, {\"dtype\": \"int\", \"name\": \"view\"}, {\"dtype\": \"int\", \"name\": \"condition\"}, {\"dtype\": \"int\", \"name\": \"grade\"}, {\"dtype\": \"int\", \"name\": \"sqft_above\"}, {\"dtype\": \"int\", \"name\": \"sqft_basement\"}, {\"dtype\": \"int\", \"name\": \"yr_built\"}, {\"dtype\": \"int\", \"name\": \"yr_renovated\"}, {\"dtype\": \"str\", \"name\": \"zipcode\"}, {\"dtype\": \"float\", \"name\": \"lat\"}, {\"dtype\": \"float\", \"name\": \"long\"}, {\"dtype\": \"float\", \"name\": \"sqft_living15\"}, {\"dtype\": \"float\", \"name\": \"sqft_lot15\"}], \"column_identifiers\": [\"bathrooms\", \"sqft_living15\", \"sqft_above\", \"grade\", \"yr_built\", \"price\", \"bedrooms\", \"zipcode\", \"long\", \"id\", \"sqft_lot15\", \"sqft_living\", \"floors\", \"sqft_lot\", \"date\", \"waterfront\", \"sqft_basement\", \"yr_renovated\", \"lat\", \"condition\", \"view\"]}, \"complete\": 1, \"ipython\": true, \"progress\": 1.0, \"data\": [[3.0, 367000.0], [4.0, 500000.0], [3.0, 210000.0], [2.0, 660000.0], [3.0, 315000.0], [3.0, 703300.0], [5.0, 1900000.0], [4.0, 442500.0], [3.0, 229500.0], [3.0, 530000.0], [3.0, 1300000.0], [2.0, 314000.0], [4.0, 480000.0], [4.0, 1612500.0], [5.0, 3065000.0], [4.0, 1180000.0], [3.0, 535000.0], [3.0, 230000.0], [3.0, 365000.0], [3.0, 230000.0], [3.0, 900000.0], [4.0, 650000.0], [4.0, 765000.0], [4.0, 721000.0], [3.0, 341000.0], [3.0, 610000.0], [3.0, 950000.0], [4.0, 700000.0], [2.0, 210000.0], [2.0, 486700.0], [3.0, 408000.0], [5.0, 465000.0], [4.0, 611000.0], [3.0, 283000.0], [3.0, 370000.0], [3.0, 420000.0], [2.0, 363000.0], [4.0, 293000.0], [3.0, 339990.0], [2.0, 273000.0], [2.0, 300000.0], [3.0, 289000.0], [5.0, 861990.0], [3.0, 350000.0], [3.0, 309000.0], [3.0, 488000.0], [3.0, 329000.0], [4.0, 785000.0], [2.0, 275000.0], [5.0, 1060000.0], [4.0, 1200000.0], [4.0, 405000.0], [3.0, 460000.0], [1.0, 351000.0], [4.0, 462000.0], [4.0, 885000.0], [3.0, 208000.0], [4.0, 480000.0], [5.0, 333000.0], [3.0, 525000.0], [3.0, 225000.0], [4.0, 390000.0], [3.0, 370000.0], [3.0, 165000.0], [4.0, 743000.0], [4.0, 371000.0], [2.0, 375000.0], [4.0, 555000.0], [3.0, 970000.0], [2.0, 160000.0], [4.0, 425000.0], [3.0, 295000.0], [2.0, 587100.0], [3.0, 682000.0], [4.0, 445000.0], [3.0, 319000.0], [4.0, 637000.0], [4.0, 496800.0], [3.0, 675000.0], [3.0, 850000.0], [3.0, 385000.0], [5.0, 340000.0], [5.0, 582000.0], [3.0, 399950.0], [3.0, 349900.0], [3.0, 345000.0], [3.0, 489950.0], [3.0, 943500.0], [3.0, 422250.0], [3.0, 719950.0], [2.0, 492000.0], [5.0, 1099880.0], [3.0, 399000.0], [3.0, 330000.0], [5.0, 411000.0], [2.0, 319000.0], [2.0, 245000.0], [3.0, 915000.0], [2.0, 504975.0], [3.0, 225000.0], [3.0, 296000.0], [3.0, 425000.0], [2.0, 441000.0], [4.0, 300000.0], [3.0, 306000.0], [5.0, 1490000.0], [5.0, 1610000.0], [3.0, 407185.0], [3.0, 264500.0], [3.0, 409500.0], [3.0, 250000.0], [4.0, 588000.0], [4.0, 920000.0], [3.0, 225000.0], [5.0, 850000.0], [4.0, 452000.0], [3.0, 532000.0], [2.0, 205425.0], [2.0, 418000.0], [4.0, 329800.0], [2.0, 412000.0], [3.0, 245000.0], [4.0, 430000.0], [5.0, 326000.0], [4.0, 360000.0], [3.0, 245000.0], [4.0, 540000.0], [2.0, 261590.0], [4.0, 340000.0], [3.0, 410000.0], [3.0, 685000.0], [3.0, 335000.0], [2.0, 481000.0], [3.0, 340000.0], [4.0, 801501.0], [4.0, 775000.0], [3.0, 490000.0], [3.0, 335000.0], [3.0, 3600000.0], [5.0, 358000.0], [4.0, 387500.0], [3.0, 299000.0], [4.0, 355000.0], [3.0, 364900.0], [3.0, 287000.0], [4.0, 269000.0], [3.0, 345000.0], [4.0, 542000.0], [2.0, 121800.0], [3.0, 382000.0], [2.0, 535000.0], [2.0, 464050.0], [3.0, 485000.0], [5.0, 395950.0], [3.0, 555000.0], [4.0, 962000.0], [3.0, 285000.0], [2.0, 1065000.0], [4.0, 494000.0], [4.0, 1200000.0], [5.0, 255000.0], [5.0, 657000.0], [3.0, 250000.0], [3.0, 299000.0], [3.0, 420000.0], [3.0, 86500.0], [4.0, 925000.0], [3.0, 725000.0], [4.0, 420000.0], [3.0, 371500.0], [3.0, 355000.0], [3.0, 782500.0], [3.0, 293500.0], [4.0, 917500.0], [3.0, 280000.0], [3.0, 535000.0], [2.0, 202000.0], [3.0, 515000.0], [3.0, 390000.0], [4.0, 552900.0], [3.0, 525000.0], [4.0, 450000.0], [4.0, 589000.0], [4.0, 1610000.0], [4.0, 545000.0], [4.0, 1339000.0], [5.0, 2466350.0], [3.0, 389000.0], [3.0, 344000.0], [3.0, 389000.0], [3.0, 280000.0], [4.0, 432500.0], [4.0, 400000.0], [3.0, 414500.0], [4.0, 244000.0], [4.0, 2298000.0], [3.0, 690000.0], [3.0, 415000.0], [3.0, 719000.0], [2.0, 489000.0], [4.0, 590000.0], [3.0, 614950.0], [3.0, 214000.0], [3.0, 565000.0], [3.0, 385000.0], [3.0, 1762000.0], [5.0, 735000.0], [3.0, 310000.0], [4.0, 603000.0], [3.0, 267500.0], [2.0, 600000.0], [4.0, 808000.0], [3.0, 318000.0], [3.0, 566000.0], [2.0, 218000.0], [2.0, 280000.0], [4.0, 215000.0], [3.0, 635000.0], [3.0, 3120000.0], [3.0, 345000.0], [3.0, 450000.0], [4.0, 318000.0], [2.0, 687500.0], [3.0, 461000.0], [5.0, 469950.0], [4.0, 430000.0], [4.0, 650000.0], [5.0, 238000.0], [3.0, 550000.0], [4.0, 453000.0], [3.0, 250000.0], [3.0, 346500.0], [2.0, 356700.0], [3.0, 190000.0], [3.0, 475000.0], [2.0, 102500.0], [3.0, 300000.0], [3.0, 392500.0], [3.0, 868500.0], [3.0, 1052000.0], [3.0, 402000.0], [2.0, 425000.0], [3.0, 399950.0], [4.0, 500000.0], [3.0, 310000.0], [2.0, 238950.0], [3.0, 370000.0], [4.0, 712000.0], [4.0, 273000.0], [2.0, 539000.0], [3.0, 700000.0], [2.0, 395000.0], [4.0, 525000.0], [4.0, 799000.0], [3.0, 245000.0], [5.0, 344000.0], [3.0, 360000.0], [3.0, 485000.0], [2.0, 235000.0], [3.0, 269950.0], [3.0, 252000.0], [3.0, 475000.0], [2.0, 405500.0], [3.0, 1150000.0], [4.0, 260000.0], [3.0, 571000.0], [2.0, 330000.0], [4.0, 515000.0], [5.0, 300000.0], [4.0, 1648000.0], [4.0, 965000.0], [3.0, 340000.0], [3.0, 713400.0], [3.0, 236000.0], [4.0, 449000.0], [2.0, 500000.0], [4.0, 1300000.0], [3.0, 865000.0], [2.0, 530000.0], [4.0, 466000.0], [3.0, 300000.0], [3.0, 541000.0], [4.0, 538200.0], [5.0, 635000.0], [4.0, 734000.0], [4.0, 300000.0], [2.0, 207000.0], [4.0, 197000.0], [5.0, 745000.0], [4.0, 705000.0], [10.0, 650000.0], [4.0, 620000.0], [6.0, 440000.0], [4.0, 200000.0], [3.0, 271950.0], [2.0, 557000.0], [4.0, 495000.0], [3.0, 499500.0], [1.0, 129000.0], [5.0, 775000.0], [4.0, 962800.0], [2.0, 189000.0], [4.0, 705000.0], [2.0, 1262000.0], [2.0, 168500.0], [3.0, 995000.0], [2.0, 319950.0], [3.0, 594000.0], [2.0, 305000.0], [4.0, 234950.0], [3.0, 459900.0], [3.0, 230000.0], [3.0, 300000.0], [3.0, 488000.0], [3.0, 427000.0], [3.0, 225000.0], [4.0, 610000.0], [4.0, 580000.0], [5.0, 1925000.0], [3.0, 499950.0], [4.0, 252750.0], [3.0, 300000.0], [2.0, 515000.0], [4.0, 295000.0], [4.0, 399950.0], [3.0, 274800.0], [3.0, 235000.0], [3.0, 448000.0], [2.0, 374000.0], [3.0, 467000.0], [2.0, 404500.0], [3.0, 273500.0], [4.0, 749950.0], [3.0, 360000.0], [4.0, 535000.0], [3.0, 417000.0], [4.0, 965000.0], [4.0, 791500.0], [4.0, 1530000.0], [4.0, 723000.0], [1.0, 283700.0], [3.0, 526000.0], [2.0, 585000.0], [1.0, 382888.0], [4.0, 552500.0], [4.0, 510000.0], [2.0, 360000.0], [6.0, 729999.0], [5.0, 472000.0], [3.0, 270000.0], [4.0, 425000.0], [3.0, 975000.0], [3.0, 2230000.0], [3.0, 235000.0], [2.0, 425000.0], [3.0, 425000.0], [3.0, 305240.0], [5.0, 635000.0], [4.0, 325900.0], [4.0, 530000.0], [4.0, 372000.0], [5.0, 380000.0], [4.0, 329500.0], [3.0, 330000.0], [4.0, 352500.0], [4.0, 2400000.0], [3.0, 288790.0], [4.0, 479900.0], [4.0, 225000.0], [4.0, 625000.0], [4.0, 585000.0], [3.0, 275000.0], [4.0, 549950.0], [3.0, 485000.0], [3.0, 399000.0], [4.0, 525000.0], [2.0, 710000.0], [4.0, 825000.0], [4.0, 433000.0], [3.0, 249000.0], [4.0, 650000.0], [3.0, 324500.0], [4.0, 1157200.0], [6.0, 800000.0], [4.0, 1140000.0], [3.0, 449888.0], [3.0, 345000.0], [3.0, 252350.0], [5.0, 1420000.0], [4.0, 515000.0], [3.0, 381000.0], [3.0, 735000.0], [4.0, 512000.0], [3.0, 600000.0], [3.0, 349950.0], [3.0, 405000.0], [3.0, 570000.0], [2.0, 230000.0], [4.0, 380000.0], [3.0, 475000.0], [3.0, 292000.0], [4.0, 435000.0], [2.0, 312000.0], [4.0, 375000.0], [3.0, 274000.0], [2.0, 260000.0], [2.0, 645000.0], [3.0, 473000.0], [5.0, 1500000.0], [3.0, 373000.0], [3.0, 1050000.0], [3.0, 396500.0], [3.0, 274950.0], [4.0, 650000.0], [4.0, 339000.0], [4.0, 334950.0], [4.0, 272750.0], [3.0, 299500.0], [5.0, 347500.0], [3.0, 625000.0], [4.0, 878000.0], [3.0, 274950.0], [4.0, 690000.0], [4.0, 551500.0], [3.0, 350000.0], [3.0, 722000.0], [4.0, 571900.0], [4.0, 189950.0], [4.0, 383000.0], [2.0, 543000.0], [4.0, 465000.0], [4.0, 650000.0], [4.0, 800000.0], [5.0, 1670000.0], [1.0, 299000.0], [5.0, 769000.0], [3.0, 325000.0], [4.0, 870000.0], [4.0, 375000.0], [3.0, 252000.0], [3.0, 437500.0], [4.0, 290000.0], [4.0, 772500.0], [3.0, 530000.0], [3.0, 346000.0], [3.0, 390000.0], [3.0, 660000.0], [3.0, 349500.0], [2.0, 257000.0], [3.0, 315500.0], [3.0, 340000.0], [5.0, 580000.0], [3.0, 640000.0], [3.0, 420000.0], [2.0, 355000.0], [4.0, 710000.0], [3.0, 750000.0], [2.0, 81000.0], [4.0, 607500.0], [3.0, 232500.0], [3.0, 322400.0], [3.0, 490000.0], [2.0, 327000.0], [4.0, 359500.0], [4.0, 430000.0], [4.0, 594000.0], [3.0, 379770.0], [5.0, 739000.0], [3.0, 331000.0], [1.0, 250000.0], [4.0, 760000.0], [3.0, 868700.0], [4.0, 626000.0], [5.0, 500000.0], [4.0, 600000.0], [4.0, 352500.0], [3.0, 288000.0], [3.0, 305000.0], [2.0, 356000.0], [5.0, 1112750.0], [4.0, 330000.0], [4.0, 1350000.0], [3.0, 270000.0], [3.0, 430000.0], [3.0, 408506.0], [4.0, 375000.0], [3.0, 210000.0], [5.0, 726000.0], [3.0, 390000.0], [2.0, 703011.0], [4.0, 330000.0], [3.0, 379900.0], [4.0, 356000.0], [3.0, 485000.0], [5.0, 549950.0], [3.0, 345000.0], [3.0, 550000.0], [3.0, 522500.0], [3.0, 774888.0], [2.0, 290000.0], [5.0, 592000.0], [2.0, 475000.0], [3.0, 590000.0], [4.0, 322000.0], [3.0, 585000.0], [2.0, 329000.0], [3.0, 543000.0], [3.0, 562500.0], [4.0, 855000.0], [3.0, 538000.0], [3.0, 249000.0], [4.0, 870000.0], [4.0, 356500.0], [4.0, 290000.0], [4.0, 349950.0], [4.0, 550000.0], [3.0, 308000.0], [3.0, 420000.0], [4.0, 585000.0], [4.0, 625000.0], [2.0, 237600.0], [4.0, 1445000.0], [3.0, 380500.0], [4.0, 161700.0], [3.0, 615000.0], [4.0, 426000.0], [1.0, 165000.0], [2.0, 274000.0], [6.0, 325000.0], [4.0, 500000.0], [2.0, 460000.0], [2.0, 200000.0], [3.0, 330000.0], [3.0, 515000.0], [4.0, 565000.0], [4.0, 399895.0], [2.0, 200000.0], [2.0, 659000.0], [4.0, 1264000.0], [3.0, 315000.0], [5.0, 919990.0], [3.0, 415000.0], [4.0, 385000.0], [4.0, 290000.0], [4.0, 852600.0], [3.0, 450000.0], [4.0, 1500000.0], [3.0, 358000.0], [3.0, 350000.0], [4.0, 725000.0], [3.0, 454000.0], [6.0, 375900.0], [3.0, 593700.0], [2.0, 320000.0], [3.0, 360000.0], [2.0, 280000.0], [3.0, 725000.0], [3.0, 449950.0], [3.0, 1190000.0], [3.0, 713900.0], [5.0, 1125000.0], [3.0, 475300.0], [4.0, 665000.0], [3.0, 888550.0], [4.0, 455000.0], [3.0, 237200.0], [4.0, 930000.0], [2.0, 390000.0], [4.0, 640000.0], [4.0, 808100.0], [3.0, 175000.0], [3.0, 265000.0], [4.0, 585000.0], [2.0, 329000.0], [3.0, 450000.0], [3.0, 489950.0], [4.0, 280000.0], [4.0, 642000.0], [5.0, 346500.0], [3.0, 645000.0], [2.0, 468000.0], [8.0, 1970000.0], [5.0, 1028950.0], [4.0, 439000.0], [3.0, 775000.0], [3.0, 310000.0], [3.0, 568500.0], [3.0, 385000.0], [2.0, 332888.0], [4.0, 700000.0], [2.0, 415000.0], [2.0, 476000.0], [4.0, 490000.0], [4.0, 405000.0], [3.0, 480000.0], [5.0, 920000.0], [3.0, 349810.0], [2.0, 600000.0], [6.0, 760000.0], [3.0, 285000.0], [2.0, 379000.0], [4.0, 794154.0], [5.0, 355000.0], [4.0, 499990.0], [4.0, 289950.0], [3.0, 368000.0], [3.0, 515000.0], [2.0, 443500.0], [4.0, 388000.0], [4.0, 481000.0], [2.0, 340000.0], [2.0, 199000.0], [4.0, 1799000.0], [4.0, 620000.0], [3.0, 242000.0], [3.0, 670000.0], [5.0, 1245000.0], [3.0, 485000.0], [4.0, 950000.0], [3.0, 402000.0], [3.0, 385000.0], [4.0, 220000.0], [4.0, 499950.0], [4.0, 370000.0], [3.0, 325000.0], [3.0, 308000.0], [2.0, 445000.0], [5.0, 1025000.0], [3.0, 459000.0], [2.0, 680000.0], [3.0, 305000.0], [4.0, 769000.0], [4.0, 659000.0], [4.0, 1175000.0], [3.0, 685000.0], [3.0, 245990.0], [3.0, 475000.0], [3.0, 240000.0], [3.0, 432250.0], [4.0, 668000.0], [3.0, 635000.0], [4.0, 495000.0], [5.0, 580000.0], [3.0, 385000.0], [3.0, 199000.0], [2.0, 370000.0], [3.0, 495000.0], [3.0, 1295000.0], [1.0, 157000.0], [4.0, 470000.0], [2.0, 254000.0], [3.0, 254000.0], [5.0, 555000.0], [2.0, 300000.0], [1.0, 90000.0], [2.0, 379900.0], [4.0, 765000.0], [4.0, 411000.0], [4.0, 700000.0], [4.0, 380000.0], [2.0, 320000.0], [3.0, 557500.0], [4.0, 503000.0], [4.0, 705000.0], [3.0, 264000.0], [3.0, 479950.0], [2.0, 380000.0], [4.0, 499990.0], [3.0, 588000.0], [3.0, 370000.0], [3.0, 325000.0], [3.0, 420000.0], [5.0, 334000.0], [2.0, 310000.0], [4.0, 809000.0], [4.0, 783350.0], [2.0, 382000.0], [2.0, 419000.0], [2.0, 414000.0], [4.0, 760000.0], [3.0, 315275.0], [4.0, 415000.0], [5.0, 480000.0], [4.0, 805000.0], [4.0, 400000.0], [4.0, 293000.0], [3.0, 1955000.0], [3.0, 716528.0], [3.0, 303500.0], [3.0, 260000.0], [3.0, 700000.0], [3.0, 260000.0], [2.0, 995000.0], [4.0, 255000.0], [5.0, 1900000.0], [4.0, 230000.0], [3.0, 369900.0], [3.0, 347000.0], [3.0, 445000.0], [2.0, 359950.0], [3.0, 665000.0], [4.0, 440000.0], [3.0, 175000.0], [3.0, 252500.0], [3.0, 605000.0], [5.0, 462000.0], [5.0, 1500000.0], [4.0, 608000.0], [4.0, 500000.0], [3.0, 1010000.0], [3.0, 812000.0], [2.0, 460000.0], [2.0, 355000.0], [3.0, 370000.0], [5.0, 474950.0], [3.0, 525000.0], [3.0, 194000.0], [3.0, 208800.0], [4.0, 565000.0], [2.0, 1899000.0], [3.0, 445000.0], [3.0, 254000.0], [4.0, 430000.0], [3.0, 636000.0], [5.0, 461500.0], [3.0, 279000.0], [2.0, 425000.0], [3.0, 593000.0], [3.0, 775000.0], [3.0, 325000.0], [3.0, 425000.0], [4.0, 299800.0], [3.0, 359950.0], [4.0, 615000.0], [3.0, 608095.0], [3.0, 522000.0], [3.0, 588000.0], [3.0, 605000.0], [4.0, 430000.0], [3.0, 399000.0], [4.0, 700000.0], [3.0, 750000.0], [4.0, 835000.0], [4.0, 257000.0], [4.0, 302059.0], [3.0, 299950.0], [4.0, 229000.0], [4.0, 590000.0], [4.0, 584999.0], [3.0, 270000.0], [3.0, 480000.0], [1.0, 192500.0], [4.0, 1200000.0], [3.0, 309500.0], [3.0, 675000.0], [3.0, 350000.0], [3.0, 739500.0], [4.0, 1580000.0], [2.0, 150000.0], [2.0, 500000.0], [3.0, 930000.0], [3.0, 1450000.0], [2.0, 485000.0], [4.0, 300000.0], [3.0, 745000.0], [3.0, 2160000.0], [5.0, 661500.0], [4.0, 220000.0], [4.0, 310000.0], [3.0, 405000.0], [5.0, 575000.0], [4.0, 456000.0], [2.0, 570000.0], [2.0, 179950.0], [4.0, 859000.0], [3.0, 365000.0], [3.0, 350000.0], [5.0, 729953.0], [3.0, 255000.0], [4.0, 878000.0], [3.0, 610000.0], [4.0, 522250.0], [3.0, 625000.0], [3.0, 216000.0], [4.0, 317500.0], [3.0, 267300.0], [4.0, 600000.0], [4.0, 335000.0], [2.0, 787500.0], [3.0, 399000.0], [3.0, 323000.0], [2.0, 399950.0], [5.0, 1125000.0], [3.0, 319000.0], [3.0, 3800000.0], [3.0, 425000.0], [4.0, 737500.0], [4.0, 324888.0], [5.0, 585000.0], [4.0, 475000.0], [2.0, 276000.0], [4.0, 1216000.0], [4.0, 345000.0], [4.0, 696500.0], [1.0, 199950.0], [3.0, 336000.0], [3.0, 239950.0], [3.0, 705000.0], [3.0, 255000.0], [2.0, 408000.0], [5.0, 230000.0], [2.0, 419000.0], [6.0, 325000.0], [3.0, 445000.0], [4.0, 675000.0], [4.0, 359950.0], [4.0, 449000.0], [4.0, 500000.0], [3.0, 549800.0], [4.0, 431000.0], [5.0, 825000.0], [2.0, 450000.0], [3.0, 267000.0], [3.0, 499000.0], [4.0, 1150000.0], [5.0, 834995.0], [5.0, 408000.0], [5.0, 1305000.0], [2.0, 225000.0], [2.0, 1411600.0], [3.0, 595000.0], [4.0, 655000.0], [3.0, 405000.0], [2.0, 174950.0], [3.0, 278000.0], [4.0, 445000.0], [1.0, 385000.0], [3.0, 240000.0], [2.0, 397000.0], [4.0, 769000.0], [5.0, 469950.0], [4.0, 1302000.0], [3.0, 208000.0], [3.0, 497000.0], [4.0, 456500.0], [3.0, 759000.0], [3.0, 319000.0], [4.0, 519900.0], [4.0, 335000.0], [3.0, 175000.0], [4.0, 728000.0], [3.0, 530000.0], [3.0, 590000.0], [5.0, 389000.0], [1.0, 439000.0], [3.0, 225000.0], [3.0, 309950.0], [3.0, 603000.0], [3.0, 345000.0], [3.0, 482000.0], [1.0, 245000.0], [3.0, 565000.0], [3.0, 725000.0], [3.0, 306000.0], [4.0, 1127000.0], [3.0, 571000.0], [3.0, 450000.0], [2.0, 325000.0], [3.0, 305000.0], [3.0, 249000.0], [3.0, 288000.0], [3.0, 432900.0], [4.0, 292000.0], [3.0, 415000.0], [4.0, 942000.0], [5.0, 768000.0], [5.0, 425000.0], [3.0, 500000.0], [3.0, 332220.0], [4.0, 325000.0], [3.0, 555000.0], [2.0, 600000.0], [3.0, 450000.0], [3.0, 475000.0], [3.0, 698000.0], [5.0, 650500.0], [5.0, 260000.0], [4.0, 405000.0], [3.0, 501000.0], [4.0, 952500.0], [4.0, 616000.0], [3.0, 229500.0], [2.0, 404500.0], [3.0, 536000.0], [3.0, 887000.0], [5.0, 1600000.0], [3.0, 328000.0], [3.0, 379900.0], [4.0, 515000.0], [4.0, 355000.0], [6.0, 235000.0], [3.0, 732500.0], [3.0, 287500.0], [3.0, 817500.0], [6.0, 317500.0], [2.0, 509000.0], [4.0, 295000.0], [4.0, 1180000.0], [4.0, 470000.0], [3.0, 437500.0], [3.0, 234000.0], [4.0, 353500.0], [3.0, 245000.0], [3.0, 560000.0], [3.0, 348580.0], [2.0, 315000.0], [2.0, 129000.0], [3.0, 579950.0], [4.0, 835000.0], [2.0, 310000.0], [3.0, 280000.0], [4.0, 578000.0], [4.0, 279000.0], [3.0, 333500.0], [2.0, 380000.0], [4.0, 420000.0], [2.0, 109000.0], [3.0, 450000.0], [5.0, 464000.0], [3.0, 485000.0], [3.0, 410000.0], [2.0, 258000.0], [4.0, 870000.0], [3.0, 370000.0], [3.0, 350000.0], [5.0, 330000.0], [4.0, 378000.0], [4.0, 339888.0], [4.0, 329950.0], [4.0, 620000.0], [4.0, 533380.0], [3.0, 425000.0], [2.0, 300000.0], [3.0, 760000.0], [4.0, 839900.0], [4.0, 419000.0], [4.0, 1031000.0], [4.0, 303210.0], [3.0, 915000.0], [3.0, 496000.0], [4.0, 1780000.0], [3.0, 342400.0], [4.0, 305000.0], [3.0, 275000.0], [4.0, 367000.0], [3.0, 344950.0], [4.0, 350000.0], [3.0, 185000.0], [3.0, 360000.0], [4.0, 355000.0], [3.0, 290256.0], [2.0, 451555.0], [4.0, 212000.0], [4.0, 280000.0], [3.0, 798500.0], [3.0, 365000.0], [4.0, 603000.0], [3.0, 389000.0], [4.0, 297500.0], [4.0, 585000.0], [3.0, 532500.0], [3.0, 300000.0], [3.0, 779000.0], [4.0, 372500.0], [4.0, 765000.0], [3.0, 735000.0], [4.0, 768500.0], [3.0, 415000.0], [3.0, 440000.0], [3.0, 260000.0], [2.0, 160000.0], [5.0, 419900.0], [2.0, 301500.0], [3.0, 465500.0], [4.0, 665000.0], [4.0, 360000.0], [3.0, 415500.0], [3.0, 410000.0], [3.0, 560000.0], [3.0, 350000.0], [4.0, 360000.0], [4.0, 585000.0], [3.0, 295000.0], [2.0, 523500.0], [3.0, 430000.0], [3.0, 650000.0], [3.0, 509900.0], [2.0, 580000.0], [2.0, 235000.0], [4.0, 510000.0]], \"columns\": [{\"dtype\": \"str\", \"name\": \"id\"}, {\"dtype\": \"datetime\", \"name\": \"date\"}, {\"dtype\": \"float\", \"name\": \"price\"}, {\"dtype\": \"float\", \"name\": \"bedrooms\"}, {\"dtype\": \"float\", \"name\": \"bathrooms\"}, {\"dtype\": \"float\", \"name\": \"sqft_living\"}, {\"dtype\": \"int\", \"name\": \"sqft_lot\"}, {\"dtype\": \"str\", \"name\": \"floors\"}, {\"dtype\": \"int\", \"name\": \"waterfront\"}, {\"dtype\": \"int\", \"name\": \"view\"}, {\"dtype\": \"int\", \"name\": \"condition\"}, {\"dtype\": \"int\", \"name\": \"grade\"}, {\"dtype\": \"int\", \"name\": \"sqft_above\"}, {\"dtype\": \"int\", \"name\": \"sqft_basement\"}, {\"dtype\": \"int\", \"name\": \"yr_built\"}, {\"dtype\": \"int\", \"name\": \"yr_renovated\"}, {\"dtype\": \"str\", \"name\": \"zipcode\"}, {\"dtype\": \"float\", \"name\": \"lat\"}, {\"dtype\": \"float\", \"name\": \"long\"}, {\"dtype\": \"float\", \"name\": \"sqft_living15\"}, {\"dtype\": \"float\", \"name\": \"sqft_lot15\"}]}, e);\n",
       "                });\n",
       "            })();\n",
       "        "
      ]
     },
     "metadata": {},
     "output_type": "display_data"
    }
   ],
   "source": [
    "sales.show(view=\"Scatter Plot\", x='bedrooms', y='price')"
   ]
  },
  {
   "cell_type": "code",
   "execution_count": null,
   "metadata": {
    "collapsed": true
   },
   "outputs": [],
   "source": []
  }
 ],
 "metadata": {
  "kernelspec": {
   "display_name": "Python 2",
   "language": "python",
   "name": "python2"
  },
  "language_info": {
   "codemirror_mode": {
    "name": "ipython",
    "version": 2
   },
   "file_extension": ".py",
   "mimetype": "text/x-python",
   "name": "python",
   "nbconvert_exporter": "python",
   "pygments_lexer": "ipython2",
   "version": "2.7.11"
  }
 },
 "nbformat": 4,
 "nbformat_minor": 0
}
